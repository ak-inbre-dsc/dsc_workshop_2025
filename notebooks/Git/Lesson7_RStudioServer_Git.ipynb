{
 "cells": [
  {
   "cell_type": "markdown",
   "id": "d3d99de1-0011-4111-8ce3-0847683a8742",
   "metadata": {},
   "source": [
    "# Lesson 6: Git & RStudio Server"
   ]
  },
  {
   "cell_type": "markdown",
   "id": "3ab6dd4c-dd85-4d2b-a4d3-1896e5f0a817",
   "metadata": {},
   "source": [
    "In this lesson, you will:\n",
    "\n",
    "1.  Log into RStudio Server\n",
    "2.  Clone your `penguins` repository directly within RStudio Server.\n",
    "3.  Make a small change to `my_code.R` *within RStudio Server*.\n",
    "4.  Use RStudio's built-in Git tools to commit and push that change back to your `penguins` GitHub repo.\n",
    "5.  Return to JupyterLab to verify the change.\n",
    "\n",
    "**Prerequisites:**\n",
    "* You have access to an RStudio Server instance and know how to log in.\n",
    "* You are logged into your individual GitHub accounts.\n",
    "\n",
    "Let's start by getting that `my_code.R` updated in your personal GitHub `penguins` repository, directly from your current local working directory."
   ]
  },
  {
   "cell_type": "markdown",
   "id": "6bd160da-5476-4068-9a14-ac0bde7a89d3",
   "metadata": {},
   "source": [
    "### 1. Log into RStudio Server using your assigned credentials"
   ]
  },
  {
   "cell_type": "markdown",
   "id": "b7ea67ff-3bf6-4311-941b-ebc7736f4cc0",
   "metadata": {},
   "source": [
    "Before you can use RStudio server and Github together you need to authenticate this connection using a key pair. You have done this before to connect your instance and Github."
   ]
  },
  {
   "cell_type": "markdown",
   "id": "e0a42a66-b490-40b8-9793-96f661c1aaa7",
   "metadata": {},
   "source": [
    "---\n",
    "\n",
    "### Step 1: Generate an SSH Key Pair on RStudio Server\n",
    "\n",
    "This creates a unique key on your RStudio Server that will authenticate with GitHub without needing your password.\n",
    "\n",
    "1.  **Open a Terminal in RStudio Server:**\n",
    "    * In RStudio Server, go to **Tools** > **Terminal** > **New Terminal**.\n",
    "\n",
    "2.  **Generate the SSH Key:**\n",
    "    * Type the following command in the terminal:\n",
    "        ```bash\n",
    "        ssh-keygen -t ed25519 -C \"your_email@example.com\"\n",
    "        ```\n",
    "        (Replace `\"your_email@example.com\"` with the email associated with your GitHub account).\n",
    "    * When prompted to \"Enter a file in which to save the key,\" press **Enter** to accept the default location (`/home/your_username/.ssh/id_ed25519`).\n",
    "    * When prompted for a passphrase, you can **press Enter twice** to leave it empty (for convenience, but less secure), or enter a strong passphrase (for more security, you'll be prompted for it occasionally). For basic setup, leaving it empty is common.\n",
    "\n",
    "3.  **View your Public Key:**\n",
    "    * Display the public key you just generated:\n",
    "        ```bash\n",
    "        cat ~/.ssh/id_ed25519.pub\n",
    "        ```\n",
    "    * **Copy the *entire* output** of this command. This is your public SSH key. It will start with `ssh-ed25519` and end with your email.\n",
    "\n",
    "---\n",
    "\n",
    "### Step 2: Add Your Public SSH Key to GitHub\n",
    "\n",
    "This tells GitHub to trust connections coming from your RStudio Server.\n",
    "\n",
    "1.  **Log in to your GitHub account.**\n",
    "2.  Go to **Settings** (usually found by clicking your profile picture in the top right corner).\n",
    "3.  In the left sidebar, click **SSH and GPG keys**.\n",
    "4.  Click the green **New SSH key** button.\n",
    "5.  **Title:** Give your key a descriptive name (e.g., \"RStudio Server Home,\" \"RStudio Server AWS\").\n",
    "6.  **Key:** Paste the **entire public key** you copied from your RStudio Server terminal into the \"Key\" text area.\n",
    "7.  Click **Add SSH key**. You may be prompted to confirm your GitHub password.\n",
    "\n",
    "---"
   ]
  },
  {
   "cell_type": "markdown",
   "id": "043ba1ab-3497-4679-aad5-460a911edbe3",
   "metadata": {},
   "source": [
    "## 2. Clone your penguins repository into RStudio\n",
    "Now that you're in your RStudio Server environment, you'll clone your personal `penguins` GitHub repository directly into RStudio. This is a common way to start a new project in RStudio when using Git.\n",
    "\n",
    "1.  **Open \"New Project\":**\n",
    "    * In RStudio Server, go to **File > New Project...**\n",
    "    * Select **\"Version Control\"**.\n",
    "    * Then choose **\"Git\"**.\n",
    "\n",
    "2.  **Enter Repository URL:**\n",
    "    * For **Repository URL**, paste the SSH URL of your personal `penguins` GitHub repository. It should look something like: `git@github.com:<your_username>/penguins.git`.\n",
    "    * RStudio will automatically fill in \"Project directory name\" as `penguins`.\n",
    "    * You can choose a \"Create project as a subdirectory of:\" location if you want to organize your projects, but the default is usually fine.\n",
    "    * Click **\"Create Project\"**.\n",
    "\n",
    "RStudio will now clone your `penguins` repository, including the `my_code.R` file you updated, and open it as an RStudio project. You should see the files in your **Files pane** (bottom right by default)."
   ]
  },
  {
   "cell_type": "markdown",
   "id": "c0324170-e9b6-48cb-86e1-6a9acf69adb8",
   "metadata": {},
   "source": [
    "---\n",
    "\n",
    "## &nbsp;&nbsp; 2. &nbsp;&nbsp; Run Code, Make Changes, Commit & Push in RStudio Server \n",
    "\n",
    "Now that your `penguins` project is open in RStudio, let's make a quick edit and push it back to GitHub, all from within RStudio's integrated Git tools.\n",
    "\n",
    "1.  **Open `my_code.R`:**\n",
    "    * In the **Files pane** (bottom right), click on `my_code.R` to open it in the editor.\n",
    "    * Click the **\"Source\"** button (or `Ctrl + Shift + S`) to run the entire script. You should see the plot generate in the **Plots pane** (also usually bottom right). This confirms your code is working in RStudio!"
   ]
  },
  {
   "cell_type": "markdown",
   "id": "40a6bb74-8345-4b1c-9212-8b69f45d4b95",
   "metadata": {},
   "source": [
    "2.  **Make a Small Change to `my_code.R`:**\n",
    "\n",
    "In the `my_code.R` editor, add the lines below at the very top of your code. This will load the package you need to create your graph:\n",
    "    \n",
    "    \n",
    "    ```\n",
    "    install.packages(\"ggplot2\",\"palmerpenguins\")\n",
    "    library(ggplot2)\n",
    "    library(palmerpenguins)\n",
    "    ``` \n",
    "    \n",
    "    \n",
    "**Save** the file (`Ctrl + S` or `Cmd + S`).\n",
    "\n",
    "Now run your code by selecting all the code and clicking Run."
   ]
  },
  {
   "cell_type": "markdown",
   "id": "8c65b24d-6b9d-4900-9bec-52b0bd2bef5f",
   "metadata": {},
   "source": [
    "3.  **Stage, Commit, and Push Your Change (Using RStudio's Git Pane):**\n",
    "    * Click on the Git tab in the top right box in your screen.\n",
    "    * You will see that the Staged checkbox next to`my_code.R` is not selected. This means your file is not staged yet.\n",
    "    * **Stage the file:** Click the **checkbox** next to `my_code.R`. This is equivalent to `git add my_code.R`.\n",
    "    * **Commit the change:** Click the **\"Commit\"** button. A new window will pop up.\n",
    "        * Type a clear commit message (e.g., \"Added code to load libraries\").\n",
    "        * Click the **\"Commit\"** button in this pop-up window.\n",
    "        * Close the commit pop-up window.\n",
    "    * **Push to GitHub:** Back in the Git pane, click the **\"Push\"** (green up-arrow) button. You might be asked for your GitHub username and password/Personal Access Token (PAT). Enter them."
   ]
  },
  {
   "cell_type": "markdown",
   "id": "83c43671-4d26-492e-8d0d-e7766f9717fc",
   "metadata": {},
   "source": [
    "4. Now you can **Check GitHub's `penguins` Repository:** to see if your edit is there!\n",
    "    * Open your web browser and go to your personal `https://github.com/<your_username>/penguins` repository.\n",
    "    * Navigate to `my_code.R` and confirm that newly added code is there.\n",
    "    \n",
    "---"
   ]
  },
  {
   "cell_type": "markdown",
   "id": "3e697d23-90f1-4492-8c9d-9c5749bc9867",
   "metadata": {},
   "source": [
    "### Congratulations! You've just made a change in RStudio Server and pushed it to GitHub using its integrated Git tools."
   ]
  }
 ],
 "metadata": {
  "environment": {
   "kernel": "conda-base-py",
   "name": "workbench-notebooks.m129",
   "type": "gcloud",
   "uri": "us-docker.pkg.dev/deeplearning-platform-release/gcr.io/workbench-notebooks:m129"
  },
  "kernelspec": {
   "display_name": "Python 3 (ipykernel)",
   "language": "python",
   "name": "conda-base-py"
  },
  "language_info": {
   "codemirror_mode": {
    "name": "ipython",
    "version": 3
   },
   "file_extension": ".py",
   "mimetype": "text/x-python",
   "name": "python",
   "nbconvert_exporter": "python",
   "pygments_lexer": "ipython3",
   "version": "3.10.16"
  }
 },
 "nbformat": 4,
 "nbformat_minor": 5
}
