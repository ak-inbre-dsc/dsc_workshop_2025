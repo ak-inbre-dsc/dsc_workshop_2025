{
 "cells": [
  {
   "cell_type": "markdown",
   "id": "a8b1f6d9-26c3-43b6-9135-2c7bc06a9eeb",
   "metadata": {},
   "source": [
    "# Welcome to your tutorial on version control with Git! "
   ]
  },
  {
   "cell_type": "markdown",
   "id": "35f25e40-5ab3-4f75-aa66-64b96f496bfd",
   "metadata": {},
   "source": [
    "### In this tutorial we will:\n",
    "\n",
    "1. Learn the basics of using Git for version control on your \"local machine\" (this google cloud instance)\n",
    "2. Connect your local repository to a remote Github repository\n",
    "3. Collaborate with colleagues on Github using branching and merging and resolve conflicts \n",
    "4. Integrate git and RStudio\n",
    "\n",
    "> **Do not do this now**: Our Google Cloud instance comes with git pre-installed. When you work on your laptop after the workshop you may need to install git yourself. You can find  instructions here: (https://github.com/git-guides/install-git).\n",
    "\n",
    "Before we dive in you will need ensure you are in your home directory, after which we will configure your Git environment on this instance. \n",
    "\n",
    "> *If you are running these notebooks locally you will need to install jupyter lab before running any of this. Please follow the instructions here: https://jupyterlab.readthedocs.io/en/stable/getting_started/installation.html*\n",
    "---"
   ]
  },
  {
   "cell_type": "code",
   "execution_count": null,
   "id": "8f244a81-d79e-4017-81a8-ddcc04f47ab1",
   "metadata": {
    "tags": []
   },
   "outputs": [],
   "source": [
    "%cd ~\n",
    "# This will change your directory to your home directory."
   ]
  },
  {
   "cell_type": "markdown",
   "id": "d5d3a974-65ec-4407-bde9-737e08a801ea",
   "metadata": {},
   "source": [
    "# Configuring Your Git Environment"
   ]
  },
  {
   "cell_type": "markdown",
   "id": "9ad9107b-5c17-4d13-9d70-a226cea84427",
   "metadata": {},
   "source": [
    "Before you start using Git for your projects, you need to tell it who you are. This information (your name and email address) will be embedded in every commit you make, which is important for tracking changes and collaboration. We use an example user here named after the highly intellegent stop motion animated children's tv series Pingu. \n",
    "\n",
    "Below, replace Pingu and Pingu's email with your own."
   ]
  },
  {
   "cell_type": "code",
   "execution_count": null,
   "id": "b565f977-8bb7-442b-be8e-e48005700b54",
   "metadata": {
    "tags": []
   },
   "outputs": [],
   "source": [
    "!git config --global user.name \"Pingu\"\n",
    "!git config --global user.email \"pingu.from.palmer@gmail.com\""
   ]
  },
  {
   "cell_type": "markdown",
   "id": "cb59f619-cf84-41e4-94ef-78db2e25aa72",
   "metadata": {},
   "source": [
    "This command will display all the Git configuration settings that are active for your user. You'll be able to see your user-name and user-email listed among them."
   ]
  },
  {
   "cell_type": "code",
   "execution_count": null,
   "id": "f1fe2e8c-db21-4020-97f9-27120954f7ae",
   "metadata": {
    "tags": []
   },
   "outputs": [],
   "source": [
    "!git config --list"
   ]
  },
  {
   "cell_type": "markdown",
   "id": "d4e5dbdb-883c-4135-9913-c9d10c29eddc",
   "metadata": {},
   "source": [
    "---\n",
    "## Git Configuration Deep Dive & Help"
   ]
  },
  {
   "cell_type": "markdown",
   "id": "51c59651-0a66-4c80-bd0a-e85c67ed82ef",
   "metadata": {
    "tags": []
   },
   "source": [
    "Above, we installed Git and set up your basic user identity. In this lesson, we'll explore some more advanced configuration settings, understand the --global flag better, and learn how to get help directly from Git.\n",
    "\n",
    "> *Understanding core.autocrlf*\n",
    "The core.autocrlf setting is crucial for cross-platform development, especially when collaborating on projects that involve both Windows and Linux/macOS users. It handles how Git manages line endings in text files.\n",
    "\n",
    "> *Line Endings*\n",
    "Windows uses Carriage Return + Line Feed (CRLF, or \\r\\n) Linux and macOS use Line Feed (LF, or \\n) If these are not handled correctly, you can end up with files that look like they have extra characters or line breaks when viewed on a different operating system, leading to unnecessary \"changes\" detected by Git.\n",
    "\n",
    "For Linux/macOS environments (like your Google Cloud instance), the recommended setting for core.autocrlf is input. Git converts CRLF to LF when you commit files to the repository. When you check out files, Git does not convert LF back to CRLF. This is ideal for Linux/macOS users working with Windows users, as it ensures that LF is always stored in the repository. **Don't worry if this is too technical for you. You don't need to fully understand it to continue with our tutorial.**"
   ]
  },
  {
   "cell_type": "markdown",
   "id": "7f31fda3-cee4-4deb-be63-d310008239ac",
   "metadata": {
    "tags": []
   },
   "source": [
    "Let's set your configuration now:\n",
    "*After running the below, there will be no direct output unless there's an error.*"
   ]
  },
  {
   "cell_type": "code",
   "execution_count": null,
   "id": "f3c27fc0-73ed-4143-a201-b6afed4cd49a",
   "metadata": {
    "tags": []
   },
   "outputs": [],
   "source": [
    "!git config --global core.autocrlf input"
   ]
  },
  {
   "cell_type": "markdown",
   "id": "3cc322f7-15ae-4818-ad62-108405ab29fe",
   "metadata": {},
   "source": [
    "We will also set the default branch to main, and our text editor to nano. This will come in handy later."
   ]
  },
  {
   "cell_type": "code",
   "execution_count": null,
   "id": "6ef67777-a42e-49cc-bdd4-6c70178accdd",
   "metadata": {
    "tags": []
   },
   "outputs": [],
   "source": [
    "!git config --global init.defaultBranch main\n",
    "!git config --global core.editor \"nano -w\""
   ]
  },
  {
   "cell_type": "markdown",
   "id": "e54affd4-daba-47c5-85b7-632063db9d8f",
   "metadata": {},
   "source": [
    "You've used the `--global` flag with git config commands multiple times now. This flag is really important because it tells Git to apply the setting to your entire user account on this specific computer.\n",
    "\n",
    "This means:\n",
    "\n",
    "You only have to set it **once**. It applies to all Git repositories you create or clone on this Jupyter instance. If you ever wanted a setting to apply only to a single, specific project, you'd navigate into that project's directory and run the git config command without the `--global` flag. This would override the global setting just for that one project.\n",
    "\n",
    "Now, let's confirm our global settings.\n",
    "\n",
    "Run the following cell to view all your global Git configuration settings:"
   ]
  },
  {
   "cell_type": "code",
   "execution_count": null,
   "id": "5b5c791b-4e77-436f-996d-bb42f1ba0397",
   "metadata": {
    "tags": []
   },
   "outputs": [],
   "source": [
    "!git config --list --global"
   ]
  },
  {
   "cell_type": "markdown",
   "id": "fe35d815-e9cd-43c1-b7d0-19523cd4eb83",
   "metadata": {},
   "source": [
    "You should see your name, email address and the settings you just added."
   ]
  },
  {
   "cell_type": "markdown",
   "id": "cf975d9c-6d50-4b6a-bc19-b66f4aeab1e7",
   "metadata": {},
   "source": [
    "---\n",
    "Git has excellent built-in help documentation. If you forget what a command does or what options are available, you can quickly look it up. There are two primary ways to get help. We'll show you the quick help here, as the full manual is interactive and doesn't display well in a notebook cell:\n",
    "\n",
    "Quick Help (`-h`): Provides a brief summary of the command's usage and its most common options.\n",
    "\n",
    "Let's try it for the `git config` command itself:"
   ]
  },
  {
   "cell_type": "code",
   "execution_count": null,
   "id": "ddc10bb9-08d6-49c8-a73d-5ab719b3d54c",
   "metadata": {
    "tags": []
   },
   "outputs": [],
   "source": [
    "!git config -h"
   ]
  }
 ],
 "metadata": {
  "environment": {
   "kernel": "conda-base-py",
   "name": "workbench-notebooks.m129",
   "type": "gcloud",
   "uri": "us-docker.pkg.dev/deeplearning-platform-release/gcr.io/workbench-notebooks:m129"
  },
  "kernelspec": {
   "display_name": "Python 3 (ipykernel)",
   "language": "python",
   "name": "conda-base-py"
  },
  "language_info": {
   "codemirror_mode": {
    "name": "ipython",
    "version": 3
   },
   "file_extension": ".py",
   "mimetype": "text/x-python",
   "name": "python",
   "nbconvert_exporter": "python",
   "pygments_lexer": "ipython3",
   "version": "3.10.16"
  }
 },
 "nbformat": 4,
 "nbformat_minor": 5
}
