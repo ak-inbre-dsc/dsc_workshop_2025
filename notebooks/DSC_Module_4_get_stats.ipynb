{
 "cells": [
  {
   "cell_type": "markdown",
   "id": "d9e02dce-b34a-4ca1-a64c-a904ec4bafde",
   "metadata": {},
   "source": [
    "# **Walkthrough: get\\_all\\_stats.sh \\- FASTQ Summary Statistics Script**"
   ]
  },
  {
   "cell_type": "markdown",
   "id": "9492fa5a-d6fb-48ca-9842-14de186eb200",
   "metadata": {},
   "source": [
    "This script uses SeqKit stats to summarize FASTQ files from your main analysis pipeline. It processes two types of files:\n",
    "\n",
    "1. **Treatment-Specific FASTQs**: Initial filtered files for each treatment (e.g., \"AS\", \"Control\").  \n",
    "2. **Mapped Isolate-Specific FASTQs**: Files with reads mapped to individual isolates within each treatment.\n",
    "\n",
    "Two separate summary .tsv files will be created.\n",
    "\n",
    "**Prerequisites:**\n",
    "\n",
    "* Main analysis pipeline successfully run.  \n",
    "* SeqKit installed and in your PATH.\n",
    "\n",
    "## **Script Breakdown**"
   ]
  },
  {
   "cell_type": "markdown",
   "id": "bcb6149b-c831-467f-a5a1-e1c5450da307",
   "metadata": {},
   "source": [
    "### **Section 0: Script Header, Behavior, and Configuration**"
   ]
  },
  {
   "cell_type": "raw",
   "id": "5ebfc2f0-9447-4aa8-ae8b-6af5aa4f02e6",
   "metadata": {},
   "source": [
    "#!/bin/bash\n",
    "# Description: Script to collect SeqKit stats for various FASTQ outputs\n",
    "# from the adaptive sampling analysis pipeline.\n",
    "\n",
    "# --- Script Behavior ---\n",
    "set -e # Exit immediately if a command exits with a non-zero status.\n",
    "set -u # Treat unset variables as an error when substituting.\n",
    "set -o pipefail # Cause a pipeline to return the exit status of the last command in the pipe that failed.\n",
    "\n",
    "# --- 0. Configuration & User-Defined Variables ---\n",
    "echo \"--- Configuration ---\"\n",
    "\n",
    "if [ \"$#\" -eq 0 ]; then # Check if no arguments were provided\n",
    "    echo \"Usage: $0 <SAMPLEID>\"\n",
    "    echo \"Error: SAMPLEID must be provided as the first command-line argument.\"\n",
    "    exit 1\n",
    "fi\n",
    "SAMPLEID=\"$1\"\n",
    "echo \"SAMPLEID set from command line: ${SAMPLEID}\"\n",
    "\n",
    "THREADS=4 # Adjust based on your system\n",
    "\n",
    "# Main Output Directory Structure (mirroring the main processing script)\n",
    "MAIN_OUTPUT_ROOT=\"${HOME}/Output_AS\" # Root for all sample outputs\n",
    "OUTPUT_DIR=\"${MAIN_OUTPUT_ROOT}/${SAMPLEID}\"\n",
    "\n",
    "# Derived Paths for input FASTQ files and output summaries\n",
    "SUMMARY_DIR=\"${OUTPUT_DIR}/summary_data\"\n",
    "FASTQ_TRMT_DIR=\"${OUTPUT_DIR}/fastq_treatment\"           # Location of treatment-specific FASTQs\n",
    "FASTQ_TRMT_ISO_DIR=\"${OUTPUT_DIR}/fastq_treatment_iso\"   # Location of mapped isolate-specific FASTQs\n",
    "\n",
    "echo \"SAMPLEID: ${SAMPLEID}\"\n",
    "echo \"THREADS: ${THREADS}\"\n",
    "echo \"MAIN_OUTPUT_ROOT: ${MAIN_OUTPUT_ROOT}\"\n",
    "echo \"OUTPUT_DIR (Sample Specific): ${OUTPUT_DIR}\"\n",
    "echo \"SUMMARY_DIR (Stats Output): ${SUMMARY_DIR}\"\n",
    "echo \"FASTQ_TRMT_DIR (Treatment FASTQs): ${FASTQ_TRMT_DIR}\"\n",
    "echo \"FASTQ_TRMT_ISO_DIR (Isolate FASTQs): ${FASTQ_TRMT_ISO_DIR}\"\n",
    "echo \"--- End Configuration ---\"\n",
    "echo \"\""
   ]
  },
  {
   "cell_type": "markdown",
   "id": "a6c24150-d37e-47b3-bdf2-70e46a5a8db1",
   "metadata": {},
   "source": [
    "* **Shebang (\\#\\!/bin/bash)**: Tells the system to use bash to run the script.  \n",
    "* **set \\-e \\-u \\-o pipefail**: Makes the script safer by exiting on errors, treating unset variables as errors, and correctly handling errors in command pipelines.  \n",
    "* **SAMPLEID from Command Line**: The script requires a SAMPLEID to be given when you run it (e.g., ./get\\_all\\_stats.sh my\\_sample).  \n",
    "* **THREADS=4**: Sets how many processor threads SeqKit can use. Adjust as needed.  \n",
    "* **Directory Variables**: Defines where the script will look for FASTQ files and save the summary reports, based on the SAMPLEID and a standard output structure (${HOME}/Output\\_AS)."
   ]
  },
  {
   "cell_type": "markdown",
   "id": "685041f4-7f3d-46ac-8408-cb1d7a4a3525",
   "metadata": {},
   "source": [
    "### **Section 1: Create Summary Directory and Check for SeqKit**"
   ]
  },
  {
   "cell_type": "raw",
   "id": "574ff0c0-96ba-4fce-a29e-3df84c399e42",
   "metadata": {},
   "source": [
    "# --- Create Summary Directory ---\n",
    "echo \"Ensuring summary directory exists: ${SUMMARY_DIR}\"\n",
    "mkdir -p \"${SUMMARY_DIR}\"\n",
    "echo \"Summary directory ensured.\"\n",
    "echo \"\"\n",
    "\n",
    "# --- Check for SeqKit ---\n",
    "if ! command -v seqkit &> /dev/null; then\n",
    "    echo \"Error: seqkit could not be found. Please install it first.\"\n",
    "    echo \"Installation instructions: https://bioinf.shenwei.me/seqkit/download/\"\n",
    "    exit 1\n",
    "fi\n",
    "echo \"SeqKit found.\"\n",
    "echo \"\""
   ]
  },
  {
   "cell_type": "markdown",
   "id": "a4d1f382-bf39-4165-bde7-6fbb32d653e1",
   "metadata": {},
   "source": [
    "* **mkdir \\-p \"${SUMMARY\\_DIR}\"**: Creates the summary\\_data directory (inside your sample's output folder) if it doesn't already exist. The \\-p option prevents errors if the directory is already there.  \n",
    "* **if \\! command \\-v seqkit ...**: Checks if the seqkit tool is installed and can be found by the system. If not, it prints an error and exits."
   ]
  },
  {
   "cell_type": "markdown",
   "id": "436f1d18-e193-453b-9fba-c27b10238a7d",
   "metadata": {},
   "source": [
    "### **Section 2: Generate Stats for Treatment-Specific FASTQ Files**\n",
    "\n",
    "This part processes the initial FASTQ files created for each treatment (e.g., AS and Control)."
   ]
  },
  {
   "cell_type": "raw",
   "id": "f89d2b81-5439-4c39-b12b-a8e88ac0ef77",
   "metadata": {},
   "source": [
    "# --- 1. Generate Stats for Treatment-Specific FASTQ Files ---\n",
    "echo \"--- Generating Stats for Treatment-Specific FASTQ Files ---\"\n",
    "# Files like: Output_AS/SAMPLEID/fastq_treatment/AS/SAMPLEID.reads.AS.fastq.gz\n",
    "#             Output_AS/SAMPLEID/fastq_treatment/Control/SAMPLEID.reads.Control.fastq.gz\n",
    "\n",
    "TRMT_FASTQ_INPUT_PATTERN=\"${FASTQ_TRMT_DIR}/*/${SAMPLEID}.reads.*.fastq.gz\"\n",
    "TRMT_STATS_OUTPUT_FILE=\"${SUMMARY_DIR}/${SAMPLEID}.reads.all_treatments.seqkit_stats.tsv\"\n",
    "\n",
    "echo \"Searching for treatment FASTQ files matching: ${TRMT_FASTQ_INPUT_PATTERN}\"\n",
    "echo \"Output will be saved to: ${TRMT_STATS_OUTPUT_FILE}\"\n",
    "\n",
    "# Check if files exist before running seqkit\n",
    "if ! ls ${TRMT_FASTQ_INPUT_PATTERN} 1> /dev/null 2>&1; then\n",
    "    echo \"WARNING: No files found matching treatment FASTQ pattern: ${TRMT_FASTQ_INPUT_PATTERN}\"\n",
    "    echo \"Skipping stats generation for treatment FASTQs.\"\n",
    "else\n",
    "    seqkit stats \\\n",
    "        -a \\\n",
    "        -b \\\n",
    "        -j \"${THREADS}\" \\\n",
    "        -T \\\n",
    "        ${TRMT_FASTQ_INPUT_PATTERN} \\\n",
    "        -o \"${TRMT_STATS_OUTPUT_FILE}\"\n",
    "\n",
    "    if [ $? -eq 0 ] && [ -s \"${TRMT_STATS_OUTPUT_FILE}\" ]; then\n",
    "        echo \"Successfully generated stats for treatment FASTQs!\"\n",
    "        echo \"Summary saved to: ${TRMT_STATS_OUTPUT_FILE}\"\n",
    "        echo \"--- Treatment FASTQ Stats Summary ---\"\n",
    "        cat \"${TRMT_STATS_OUTPUT_FILE}\"\n",
    "        echo \"------------------------------------\"\n",
    "    else\n",
    "        echo \"Error generating stats for treatment FASTQs or output file is empty.\"\n",
    "    fi\n",
    "fi\n",
    "echo \"\""
   ]
  },
  {
   "cell_type": "markdown",
   "id": "65e34b00-7a00-48d7-a43a-253e29da1172",
   "metadata": {},
   "source": [
    "* **TRMT\\_FASTQ\\_INPUT\\_PATTERN**: This defines how to find the FASTQ files. The \\* are wildcards:  \n",
    "  * The first \\* matches treatment subfolders (like AS or Control).  \n",
    "  * The second \\* matches the treatment name within the filenames.  \n",
    "* **File Existence Check**: Before running seqkit, the script uses ls to see if any files actually match the pattern. If not, it skips this step.  \n",
    "* **seqkit stats ...**: This is the main command.  \n",
    "  * \\-a: Get all statistics.  \n",
    "  * \\-b: Use just the filename (basename) in the report.  \n",
    "  * \\-j `\"${THREADS}\"`: Use multiple threads.  \n",
    "  * \\-T: Output as a tab-separated table.  \n",
    "  * `${TRMT\\_FASTQ\\_INPUT\\_PATTERN}`: Provides the list of files (wildcards expanded by the shell).  \n",
    "  * \\-o `\"${TRMT\\_STATS\\_OUTPUT\\_FILE}\"`: Saves the output to a .tsv file.  \n",
    "* **Verification**: Checks if seqkit ran successfully and created a non-empty output file, then prints the summary."
   ]
  },
  {
   "cell_type": "markdown",
   "id": "06e518e0-9c9b-4027-a865-585498a9925b",
   "metadata": {},
   "source": [
    "### **Section 3: Generate Stats for Mapped Isolate-Specific FASTQ Files**\n",
    "\n",
    "This part processes the FASTQ files containing reads that mapped to specific isolates within each treatment (e.g., `...mapped.AS.Bacillus.fastq.gz`)."
   ]
  },
  {
   "cell_type": "raw",
   "id": "d9dc21ba-bd26-4295-8854-e7617f27b6ae",
   "metadata": {},
   "source": [
    "# --- 2. Generate Stats for Mapped Isolate-Specific FASTQ Files ---\n",
    "echo \"--- Generating Stats for Mapped Isolate-Specific FASTQ Files ---\"\n",
    "# Files like: Output_AS/SAMPLEID/fastq_treatment_iso/AS_Bacillus/SAMPLEID.mapped.AS.Bacillus.fastq.gz\n",
    "#             Output_AS/SAMPLEID/fastq_treatment_iso/Control_Listeria/SAMPLEID.mapped.Control.Listeria.fastq.gz\n",
    "\n",
    "ISO_FASTQ_INPUT_PATTERN=\"${FASTQ_TRMT_ISO_DIR}/*_*/${SAMPLEID}.mapped.*.*.fastq.gz\"\n",
    "ISO_STATS_OUTPUT_FILE=\"${SUMMARY_DIR}/${SAMPLEID}.mapped.all_isolates.seqkit_stats.tsv\"\n",
    "\n",
    "echo \"Searching for mapped isolate FASTQ files matching: ${ISO_FASTQ_INPUT_PATTERN}\"\n",
    "echo \"Output will be saved to: ${ISO_STATS_OUTPUT_FILE}\"\n",
    "\n",
    "# Check if files exist before running seqkit\n",
    "if ! ls ${ISO_FASTQ_INPUT_PATTERN} 1> /dev/null 2>&1; then\n",
    "    echo \"WARNING: No files found matching mapped isolate FASTQ pattern: ${ISO_FASTQ_INPUT_PATTERN}\"\n",
    "    echo \"Skipping stats generation for mapped isolate FASTQs.\"\n",
    "else\n",
    "    seqkit stats \\\n",
    "        -a \\\n",
    "        -b \\\n",
    "        -j \"${THREADS}\" \\\n",
    "        -T \\\n",
    "        ${ISO_FASTQ_INPUT_PATTERN} \\\n",
    "        -o \"${ISO_STATS_OUTPUT_FILE}\"\n",
    "\n",
    "    if [ $? -eq 0 ] && [ -s \"${ISO_STATS_OUTPUT_FILE}\" ]; then\n",
    "        echo \"Successfully generated stats for mapped isolate FASTQs!\"\n",
    "        echo \"Summary saved to: ${ISO_STATS_OUTPUT_FILE}\"\n",
    "        echo \"--- Mapped Isolate FASTQ Stats Summary ---\"\n",
    "        cat \"${ISO_STATS_OUTPUT_FILE}\"\n",
    "        echo \"-----------------------------------------\"\n",
    "    else\n",
    "        echo \"Error generating stats for mapped isolate FASTQs or output file is empty.\"\n",
    "    fi\n",
    "fi\n",
    "echo \"\"\n",
    "\n",
    "echo \"--- All SeqKit Stats Generation Finished ---\""
   ]
  },
  {
   "cell_type": "markdown",
   "id": "f2b1deaa-f875-4935-b916-23f1b885a4c9",
   "metadata": {},
   "source": [
    "* **ISO\\_FASTQ\\_INPUT\\_PATTERN**: This pattern is for finding the isolate-specific mapped FASTQ files.  \n",
    "  * The \\*\\_\\* matches subfolders named like AS\\_Bacillus or Control\\_Listeria.  \n",
    "  * The .\\*.\\*. part matches the treatment and isolate names in the actual filenames.  \n",
    "* The rest of the logic (file check, seqkit stats command, verification) is similar to Section 2, but applied to these isolate-specific FASTQ files and a different output file."
   ]
  },
  {
   "cell_type": "markdown",
   "id": "e0e842e7-8c71-4df4-824d-c659801fa639",
   "metadata": {},
   "source": [
    "## **How to Run This Script**\n",
    "\n",
    "**Run with SAMPLEID:** Execute the script with your sample ID:  \n",
    "   `bash dsc_workshop_2025/scripts/get_all_stats.sh your_sample_id_here`\n",
    "\n",
    "   The script will then generate the two summary .tsv files in the `summary_data` folder for that sample."
   ]
  },
  {
   "cell_type": "raw",
   "id": "5ffadef1-bea3-4ae9-a1bc-a831533925a5",
   "metadata": {},
   "source": [
    "cd ~\n",
    "bash dsc_workshop_2025/scripts/get_all_stats.sh jetsonhack_ORANGE_run1_20220207"
   ]
  },
  {
   "cell_type": "markdown",
   "id": "ec4f85f8-81f0-4bea-90d5-c22cc6136e43",
   "metadata": {},
   "source": [
    "* Note\n",
    "If you want to try another sample change `jetsonhack_ORANGE_run1_20220207` to another sequencing run in the `dsc-nanopore-datea/as_data` folder (e.g., `DSC_RAD_Enrich`)"
   ]
  }
 ],
 "metadata": {
  "environment": {
   "kernel": "conda-base-py",
   "name": "workbench-notebooks.m129",
   "type": "gcloud",
   "uri": "us-docker.pkg.dev/deeplearning-platform-release/gcr.io/workbench-notebooks:m129"
  },
  "kernelspec": {
   "display_name": "Python 3 (ipykernel)",
   "language": "python",
   "name": "conda-base-py"
  },
  "language_info": {
   "codemirror_mode": {
    "name": "ipython",
    "version": 3
   },
   "file_extension": ".py",
   "mimetype": "text/x-python",
   "name": "python",
   "nbconvert_exporter": "python",
   "pygments_lexer": "ipython3",
   "version": "3.10.16"
  }
 },
 "nbformat": 4,
 "nbformat_minor": 5
}
