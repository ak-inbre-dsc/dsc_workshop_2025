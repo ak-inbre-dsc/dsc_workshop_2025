{
 "cells": [
  {
   "cell_type": "markdown",
   "id": "ed235548-cceb-4984-ad63-a5df102b0610",
   "metadata": {
    "tags": []
   },
   "source": [
    "# Set up environment \n",
    "to use the EPI2ME Nextflow pipelines with Docker"
   ]
  },
  {
   "cell_type": "markdown",
   "id": "9daa8f04-7bc0-4be4-978f-253452344642",
   "metadata": {},
   "source": [
    "## Install Java\n",
    "(should be Version 17)"
   ]
  },
  {
   "cell_type": "code",
   "execution_count": null,
   "id": "392efded-c3e7-4939-8d13-39e36a920b9e",
   "metadata": {
    "tags": []
   },
   "outputs": [],
   "source": [
    "%%bash\n",
    "echo \"This is a set of bash commands to install Java v17.\"\n",
    "sudo apt-get update\n",
    "sudo apt-get install openjdk-17-jdk -y\n",
    "java -version"
   ]
  },
  {
   "cell_type": "markdown",
   "id": "2ba1d9b0-f83a-4662-bbe5-6cf03efce559",
   "metadata": {},
   "source": [
    "## Install Nextflow"
   ]
  },
  {
   "cell_type": "code",
   "execution_count": null,
   "id": "6e51b4c1-25b3-4747-ba2e-bcca3099a07a",
   "metadata": {
    "tags": []
   },
   "outputs": [],
   "source": [
    "%%bash\n",
    "echo \"This is a set of bash commands to install Nextflow.\"\n",
    "cd ~ \n",
    "curl -s get.nextflow.io | bash\n",
    "chmod +x nextflow\n",
    "./nextflow -version"
   ]
  },
  {
   "cell_type": "markdown",
   "id": "2492c88b-21f4-4bcf-a632-4f47f3344480",
   "metadata": {},
   "source": [
    "## Create a test Nextflow script and run."
   ]
  },
  {
   "cell_type": "code",
   "execution_count": null,
   "id": "6c624861-4d10-436a-8fb8-3008cf124073",
   "metadata": {
    "tags": []
   },
   "outputs": [],
   "source": [
    "%%file ~/main.nf\n",
    "// Your Nextflow pipeline script here\n",
    "println \"Hello from Nextflow!\""
   ]
  },
  {
   "cell_type": "code",
   "execution_count": null,
   "id": "3208fe7d-ef0c-4abe-beb1-000bb5365f5d",
   "metadata": {
    "tags": []
   },
   "outputs": [],
   "source": [
    "!~/nextflow run ~/main.nf"
   ]
  }
 ],
 "metadata": {
  "environment": {
   "kernel": "conda-base-py",
   "name": "workbench-notebooks.m129",
   "type": "gcloud",
   "uri": "us-docker.pkg.dev/deeplearning-platform-release/gcr.io/workbench-notebooks:m129"
  },
  "kernelspec": {
   "display_name": "Python 3 (ipykernel)",
   "language": "python",
   "name": "conda-base-py"
  },
  "language_info": {
   "codemirror_mode": {
    "name": "ipython",
    "version": 3
   },
   "file_extension": ".py",
   "mimetype": "text/x-python",
   "name": "python",
   "nbconvert_exporter": "python",
   "pygments_lexer": "ipython3",
   "version": "3.10.16"
  }
 },
 "nbformat": 4,
 "nbformat_minor": 5
}
