{
 "cells": [
  {
   "cell_type": "markdown",
   "id": "62de66a7-9842-45a1-aff6-f176842b4eb2",
   "metadata": {},
   "source": [
    "# **EPI2ME *wf-bacterial-genomes* Workflow: A Training Explanation**\n",
    "\n",
    "## **Introduction to Bacterial Genome Analysis**\n",
    "\n",
    "In this section, we'll explore the *wf-bacterial-genomes* workflow, a powerful tool from EPI2ME Labs designed for analyzing bacterial genomes using Oxford Nanopore sequencing data. This workflow is particularly useful for:\n",
    "\n",
    "* ***De novo*** **Genome Assembly:** Constructing a complete or near-complete genome sequence without relying on a reference genome.  \n",
    "* **Genome Annotation:** Identifying and labeling genes and other important features within the assembled genome.  \n",
    "* **Characterizing Bacterial Isolates:** (Optional, using the \\--isolates mode) Providing additional information, such as:  \n",
    "  * Multi-locus sequence typing (MLST)  \n",
    "  * Antimicrobial resistance (AMR) gene detection  \n",
    "  * *Salmonella* serotyping"
   ]
  },
  {
   "cell_type": "markdown",
   "id": "6e702416-c474-4131-a3e7-22d4e1863571",
   "metadata": {
    "tags": []
   },
   "source": [
    "## **Workflow Overview**\n",
    "\n",
    "The *wf-bacterial-genomes* workflow automates several key steps in bacterial genome analysis. Here's a breakdown of the main stages:\n",
    "\n",
    "1. **Input Processing:**  \n",
    "   * The workflow accepts raw sequencing data in FASTQ or BAM format.  \n",
    "   * It can handle single files, directories of files, or directories containing subdirectories of files.  \n",
    "   * The fastcat tool concatenates multiple input files (if provided), and bamstats generates per-read statistics, including average read lengths and quality scores. This step ensures that the data is in a suitable format for downstream analysis and provides initial quality control metrics.  \n",
    "2. **Genome Assembly:**  \n",
    "   * The workflow performs *de novo* assembly of the bacterial genome. *De novo* assembly means the genome is assembled from scratch, without using a reference genome as a template. This is crucial for novel or poorly characterized organisms.  \n",
    "3. **Genome Annotation:**  \n",
    "   * The assembled genome is annotated using Prokka, a rapid prokaryotic genome annotation tool.  \n",
    "   * Prokka identifies and labels various genomic features, such as protein-coding genes, ribosomal RNA genes, transfer RNA genes, and other non-coding regions.  \n",
    "   * By default, Prokka uses its built-in databases, but users can customize the annotation process using the \\--prokka\\_opts parameter.  \n",
    "4. **Isolate Characterization (Optional):**  \n",
    "   * If the \\--isolates mode is enabled, the workflow performs additional analyses to characterize the bacterial isolate:  \n",
    "     * **Multi-Locus Sequence Typing (MLST):** MLST is a technique used to classify bacterial isolates based on variations in a set of essential housekeeping genes. The workflow uses PubMLST databases to identify the specific sequence type of the isolate.  \n",
    "     * **Antimicrobial Resistance (AMR) Calling:** The workflow uses ResFinder to detect genes and single nucleotide polymorphisms (SNPs) associated with resistance to various antimicrobial drugs. This analysis helps understand the resistance profile of the bacteria.  \n",
    "     * ***Salmonella*** **Serotyping:** For *Salmonella* isolates, the workflow performs serotyping and antigenic profile prediction using SeqSero2. This provides detailed information about the serotype and its antigenic characteristics."
   ]
  },
  {
   "cell_type": "markdown",
   "id": "9be6f906-1509-4e24-ab4a-f123bbfb2c20",
   "metadata": {},
   "source": [
    "## **Key Concepts and Tools**\n",
    "\n",
    "* **Oxford Nanopore Sequencing:** This technology produces long reads of DNA, which are particularly useful for *de novo* genome assembly, as they can span repetitive regions and resolve complex genomic structures.  \n",
    "* **FASTQ/BAM:** These are standard file formats for storing sequencing data. FASTQ files contain the raw sequence reads and their associated quality scores, while BAM files contain aligned reads in a compressed binary format.  \n",
    "* ***De novo*** **Assembly:** The process of assembling a genome from scratch, without using a reference genome.  \n",
    "* **Genome Annotation:** The process of identifying and labeling the functional elements within a genome, such as genes, regulatory regions, and other features.  \n",
    "* **Prokka:** A software tool used to rapidly annotate bacterial, archaeal, and viral genomes.  \n",
    "* **Nextflow:** A workflow management system used by EPI2ME Labs to define and execute complex bioinformatics pipelines. Nextflow enables parallel processing, handles dependencies, and ensures reproducibility.  \n",
    "* **MLST (Multi-Locus Sequence Typing):** A technique to characterize bacterial strains using the sequences of several essential housekeeping genes.  \n",
    "* **AMR (Antimicrobial Resistance):** The ability of microorganisms to withstand the effects of antimicrobial drugs.  \n",
    "* **ResFinder:** A database and tool for identifying acquired antimicrobial resistance genes in bacterial DNA sequences.  \n",
    "* **SeqSero2:** A tool for *Salmonella* serotype and antigenic profile prediction."
   ]
  },
  {
   "cell_type": "markdown",
   "id": "152fbbcf-a2db-4191-9609-553ba928d4c4",
   "metadata": {},
   "source": [
    "## **Workflow Benefits**\n",
    "\n",
    "* **Comprehensive Analysis:** The workflow provides a comprehensive analysis of bacterial genomes, from assembly and annotation to isolate characterization.  \n",
    "* **Automation:** The workflow automates many of the complex steps involved in genome analysis, making it easier to use and less prone to errors.  \n",
    "* **Reproducibility:** Using Nextflow ensures that the workflow is reproducible, meaning that the same results can be obtained every time it is run.  \n",
    "* **Scalability:** The workflow can be run on various computing platforms, from individual workstations to high-performance computing clusters, making it suitable for analyzing both small and large datasets."
   ]
  },
  {
   "cell_type": "markdown",
   "id": "fc7bee56-ac82-4e2f-be2d-d5b54a1deec0",
   "metadata": {},
   "source": [
    "## **Running the Workflow**\n",
    "\n",
    "The *wf-bacterial-genomes* workflow is typically executed using the Nextflow command-line tool. EPI2ME provides detailed instructions and examples on how to install and run the workflow, including specifying input data, setting parameters, and managing the analysis. We will cover the specific commands and parameters in the practical session."
   ]
  },
  {
   "cell_type": "code",
   "execution_count": null,
   "id": "01f53151-d895-4201-9708-d9fb02424d8a",
   "metadata": {},
   "outputs": [],
   "source": [
    "!./nextflow run epi2me-labs/wf-bacterial-genomes --help"
   ]
  },
  {
   "cell_type": "markdown",
   "id": "5f415f31-8ee8-4546-9705-21f86d443a95",
   "metadata": {},
   "source": [
    "**Leveraging the JupyterLab Terminal:**\n",
    "\n",
    "For users working within a JupyterLab environment (such as on Vertex AI), the terminal provides a convenient way to execute Nextflow commands. Here's how you can run the workflow:\n",
    "\n",
    "1. **Open a Terminal:** In JupyterLab, navigate to \"File\" \\> \"New\" \\> \"Terminal\". This will open a new terminal window within your JupyterLab interface.  \n",
    "2. **Execute the Command:** You can directly copy and paste the Nextflow command into the terminal. For example, to run the workflow with the provided parameters, use the following:  "
   ]
  },
  {
   "cell_type": "markdown",
   "id": "5cae4fa9-441a-4417-bce4-824015e54743",
   "metadata": {},
   "source": [
    "````\n",
    "./nextflow run epi2me-labs/wf-bacterial-genomes \\\n",
    "    --fastq \"${HOME}/dsc-epi2me-data/wf-bacterial-genomes-demo/isolates_fastq\" \\\n",
    "    --isolates \\\n",
    "    --sample_sheet \"${HOME}/dsc-epi2me-data/wf-bacterial-genomes-demo/isolates_sample_sheet.csv\" \\\n",
    "    --out_dir 'bacterial-genomes-demo_output' \\\n",
    "    -profile standard\n",
    "```` "
   ]
  },
  {
   "cell_type": "markdown",
   "id": "193b9e60-9a61-4b96-b1c0-d07a95ff5364",
   "metadata": {},
   "source": [
    "3. **Monitor Execution:** The workflow will begin to execute, and you will see the progress, any error messages, and the final results directly in the terminal.\n",
    "4. **View the Results:**\n",
    "    * Once the workflow has completed, the output files will be located in the `bacterial-genomes-demo_output` directory.\n",
    "    * Locate the report HTML file (`wf-bacterial-genomes.html`) within this directory. This file contains a comprehensive summary of the workflow results.\n",
    "    * Open the HTML file.  JupyterLab may prompt you to \"Trust HTML\" at the top left of the file.  If so, click \"Trust HTML\" to ensure that the report renders correctly and all elements are displayed."
   ]
  },
  {
   "cell_type": "markdown",
   "id": "73e24a8b-7245-482c-ae40-bd7e722ec9a3",
   "metadata": {},
   "source": [
    "### **Learning Outcomes**\n",
    "\n",
    "By the end of this section, you should be able to:\n",
    "\n",
    "* Understand the purpose and applications of the *wf-bacterial-genomes* workflow.  \n",
    "* Describe the key steps involved in bacterial genome assembly, annotation, and isolate characterization.  \n",
    "* Identify the main tools and concepts used in the workflow.  \n",
    "* Appreciate the benefits of using a workflow for bacterial genome analysis.\n",
    "\n",
    "EPI2ME provides detailed instructions and examples on how to install and run the workflow, including specifying input data, setting parameters, and managing the analysis. We will cover the specific commands and parameters in the practical session."
   ]
  }
 ],
 "metadata": {
  "environment": {
   "kernel": "conda-base-py",
   "name": "workbench-notebooks.m129",
   "type": "gcloud",
   "uri": "us-docker.pkg.dev/deeplearning-platform-release/gcr.io/workbench-notebooks:m129"
  },
  "kernelspec": {
   "display_name": "Python 3 (ipykernel)",
   "language": "python",
   "name": "conda-base-py"
  },
  "language_info": {
   "codemirror_mode": {
    "name": "ipython",
    "version": 3
   },
   "file_extension": ".py",
   "mimetype": "text/x-python",
   "name": "python",
   "nbconvert_exporter": "python",
   "pygments_lexer": "ipython3",
   "version": "3.10.16"
  }
 },
 "nbformat": 4,
 "nbformat_minor": 5
}
