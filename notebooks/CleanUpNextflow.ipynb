{
 "cells": [
  {
   "cell_type": "code",
   "execution_count": 1,
   "id": "2849bec3-a037-4112-b436-a183b58a8d33",
   "metadata": {
    "tags": []
   },
   "outputs": [
    {
     "name": "stdout",
     "output_type": "stream",
     "text": [
      "Folder '/home/jupyter/work' and its contents deleted successfully from your home directory.\n",
      "Folder '/home/jupyter/output' and its contents deleted successfully from your home directory.\n"
     ]
    }
   ],
   "source": [
    "import shutil\n",
    "import os\n",
    "\n",
    "folder_name = \"work\"\n",
    "folder_path = os.path.expanduser(f\"~/{folder_name}\")\n",
    "\n",
    "try:\n",
    "    shutil.rmtree(folder_path)\n",
    "    print(f\"Folder '{folder_path}' and its contents deleted successfully from your home directory.\")\n",
    "except FileNotFoundError:\n",
    "    print(f\"Error: Folder '{folder_path}' not found in your home directory.\")\n",
    "except OSError as e:\n",
    "    print(f\"Error deleting folder '{folder_path}' from your home directory: {e}\")\n",
    "    \n",
    "    \n",
    "folder_name = \"output\"\n",
    "folder_path = os.path.expanduser(f\"~/{folder_name}\")\n",
    "\n",
    "try:\n",
    "    shutil.rmtree(folder_path)\n",
    "    print(f\"Folder '{folder_path}' and its contents deleted successfully from your home directory.\")\n",
    "except FileNotFoundError:\n",
    "    print(f\"Error: Folder '{folder_path}' not found in your home directory.\")\n",
    "except OSError as e:\n",
    "    print(f\"Error deleting folder '{folder_path}' from your home directory: {e}\")"
   ]
  }
 ],
 "metadata": {
  "environment": {
   "kernel": "conda-base-py",
   "name": "workbench-notebooks.m129",
   "type": "gcloud",
   "uri": "us-docker.pkg.dev/deeplearning-platform-release/gcr.io/workbench-notebooks:m129"
  },
  "kernelspec": {
   "display_name": "Python 3 (ipykernel)",
   "language": "python",
   "name": "conda-base-py"
  },
  "language_info": {
   "codemirror_mode": {
    "name": "ipython",
    "version": 3
   },
   "file_extension": ".py",
   "mimetype": "text/x-python",
   "name": "python",
   "nbconvert_exporter": "python",
   "pygments_lexer": "ipython3",
   "version": "3.10.16"
  }
 },
 "nbformat": 4,
 "nbformat_minor": 5
}
