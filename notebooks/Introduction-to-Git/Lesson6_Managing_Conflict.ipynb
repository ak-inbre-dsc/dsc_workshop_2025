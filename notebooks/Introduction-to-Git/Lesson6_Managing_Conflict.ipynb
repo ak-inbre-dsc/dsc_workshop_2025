{
 "cells": [
  {
   "cell_type": "markdown",
   "id": "b0bb0ffe-ed00-4036-9d2b-57a4264fa7a5",
   "metadata": {},
   "source": [
    "# Lesson 5:  Introduction to Git Merge Conflicts"
   ]
  },
  {
   "cell_type": "markdown",
   "id": "2f610299-d2a2-4e9d-942e-2c8abbf457eb",
   "metadata": {},
   "source": [
    "In collaborative development, it's common for two or more people to modify the *same part of the same file* simultaneously. When Git tries to combine these divergent changes, it can't automatically decide which version to keep. This is called a **merge conflict**.\n",
    "\n",
    "Git will pause the merge process and ask for your manual intervention to resolve these conflicts.\n",
    "\n",
    "In this lesson, we will simulate a conflict and then learn how to resolve it.\n",
    "\n",
    "**The Scenario:**\n",
    "* Both Owner and Collaborator will start by making sure their local `main` branch is completely up-to-date with the shared remote.\n",
    "* **Owner** will then create a feature branch and modify a specific line in `my_code.R`, commit it, and push it to `main`.\n",
    "* **Collaborator** will *also* create a feature branch, and modify the *exact same line* in `my_code.R` with a *different* change.\n",
    "* When Collaborator tries to merge their changes into `main` (after Owner has already pushed theirs), a conflict will occur.\n",
    "* We will then go through the steps to manually resolve this conflict."
   ]
  },
  {
   "cell_type": "markdown",
   "id": "44401c01-0d45-4083-bed3-0dd15f7a2e7b",
   "metadata": {},
   "source": [
    "### &nbsp;&nbsp; 1.&nbsp;&nbsp; Pull latest version of the repository from Github"
   ]
  },
  {
   "cell_type": "markdown",
   "id": "89e5af55-08bf-44df-8c54-6429b476ac5f",
   "metadata": {},
   "source": [
    "Let's begin by ensuring you are in the correct directory.\n",
    "\n",
    "**IMPORTANT** Uncomment (remove the #) the appropriate 'cd' line above for your role (Owner or Collaborator)"
   ]
  },
  {
   "cell_type": "code",
   "execution_count": null,
   "id": "9c7bc820-1b93-483f-8fd9-593e8d738a94",
   "metadata": {
    "tags": []
   },
   "outputs": [],
   "source": [
    "# Owner\n",
    "%cd ~/my_first_git_project\n",
    "\n",
    "# Collaborator\n",
    "#%cd ~/my_first_git_project/penguin-collaboration-project"
   ]
  },
  {
   "cell_type": "markdown",
   "id": "edfaf119-757b-44ec-9681-03f429730728",
   "metadata": {},
   "source": [
    "Now both **Owner** and **Collaborator** can run the following code, which pulls the latest copy of the main branch to their local instance"
   ]
  },
  {
   "cell_type": "code",
   "execution_count": null,
   "id": "6ed7888a-bb1f-441c-b902-31aa67f466f2",
   "metadata": {
    "tags": []
   },
   "outputs": [],
   "source": [
    "!git checkout main \n",
    "!git pull origin main \n",
    "!git status"
   ]
  },
  {
   "cell_type": "markdown",
   "id": "b9a3703d-6e7e-4cc3-a3bd-9a0f2fc22f2f",
   "metadata": {},
   "source": [
    "You should see that your main branch is up to date"
   ]
  },
  {
   "cell_type": "markdown",
   "id": "29be1ddf-69ca-4569-b4fd-bf8301f43bf2",
   "metadata": {
    "tags": [
     "hide-input"
    ]
   },
   "source": [
    "<pre><code style=\"font-size: 2em; color: blue;\"> OWNER START\n",
    "</code></pre>"
   ]
  },
  {
   "cell_type": "markdown",
   "id": "40ab1ebb-d037-4899-b079-d55a0b9fda45",
   "metadata": {},
   "source": [
    "### &nbsp;&nbsp; 2. &nbsp;&nbsp; Prepare for Your Conflicting Change\n",
    "\n",
    "Now, the **Owner** will make a specific change to `my_code.R` that will later cause a conflict.\n",
    "\n",
    "Your feature branch for this change will be named `feature/<your-name>_owner-conflict`."
   ]
  },
  {
   "cell_type": "markdown",
   "id": "21b06c07-b9f5-43df-8587-2e7c763dd7e0",
   "metadata": {},
   "source": [
    "### &nbsp;&nbsp; 3. &nbsp;&nbsp; Create and switch to your feature branch for the conflict"
   ]
  },
  {
   "cell_type": "code",
   "execution_count": null,
   "id": "cd39e01d-2f69-4213-8631-0407b97ca3ce",
   "metadata": {
    "tags": []
   },
   "outputs": [],
   "source": [
    "!git branch feature/pingu_owner-conflict \n",
    "!git checkout feature/pingu_owner-conflict \n",
    "!git status"
   ]
  },
  {
   "cell_type": "markdown",
   "id": "ae7e3002-7e82-46bb-847c-1ce622092b46",
   "metadata": {},
   "source": [
    "### 4. &nbsp;&nbsp; Create Conflict: Modify `my_code.R`\n",
    "\n",
    "Now that you're on your `feature/<your-name>_owner-conflict` branch, you'll modify a **specific line** in the `my_code.R` file. This change will directly conflict with a change the Collaborator will make later.\n",
    "\n",
    "1.  **Locate `my_code.R`:** In the left sidebar of your JupyterLab interface, navigate into your `my_first_git_project` directory. Double-click to open `my_code.R`.\n",
    "2.  **Modify a line:** Find the line that looks similar to `geom_point()`. You will modify its transparency (alpha value).\n",
    "    * Change: `geom_point()`\n",
    "    * To: `geom_point(alpha = 0.6)`\n",
    "3.  **Save the file:** Save your changes by clicking \"File\" -> \"Save my_code.R\" or using the keyboard shortcut (`Ctrl + S` or `Cmd + S`).\n",
    "4.  **Close the tab:** You can close the `my_code.R` editor tab if you wish."
   ]
  },
  {
   "cell_type": "markdown",
   "id": "f5fb3e84-d07e-404c-bc9d-6bb26fcd3719",
   "metadata": {},
   "source": [
    "### &nbsp;&nbsp; 5. &nbsp;&nbsp; Commit & Push to Your Feature Branch"
   ]
  },
  {
   "cell_type": "markdown",
   "id": "63736f14-8f2e-4b50-bdd9-342115b675e7",
   "metadata": {},
   "source": [
    "You will now commit your changes to your feature branch, and push your feature branch to the shared remote:"
   ]
  },
  {
   "cell_type": "code",
   "execution_count": null,
   "id": "a8ab688f-bd69-48bd-a63b-dc586b79e899",
   "metadata": {
    "tags": []
   },
   "outputs": [],
   "source": [
    "!git add my_code.R \n",
    "!git commit -m \"Conflict Feature: Owner modified geom_point alpha (pingu)\" \n",
    "!git push -u origin feature/pingu_owner-conflict"
   ]
  },
  {
   "cell_type": "markdown",
   "id": "a31e4bed-539a-41be-8074-558a866ca28d",
   "metadata": {},
   "source": [
    "### &nbsp;&nbsp; 6. &nbsp;&nbsp; Switch Back to Main, Merge with Feature & Push to Shared Remote"
   ]
  },
  {
   "cell_type": "code",
   "execution_count": null,
   "id": "3cad109e-8211-48b2-8240-c19ad4bccf71",
   "metadata": {
    "tags": []
   },
   "outputs": [],
   "source": [
    "!git checkout main \n",
    "!git pull origin main # Always pull the latest main before merging, just in case. (Though unlikely now, good habit!)\n",
    "!git merge feature/pingu_owner-conflict \n",
    "!git push origin main"
   ]
  },
  {
   "cell_type": "markdown",
   "id": "447a68da-7f5e-4162-832f-a5ef782831c8",
   "metadata": {},
   "source": [
    "### &nbsp;&nbsp; 7. &nbsp;&nbsp; Delete your Feature Branch"
   ]
  },
  {
   "cell_type": "code",
   "execution_count": null,
   "id": "7f942fb8-5fdb-4aa2-9c79-e1f22e66209d",
   "metadata": {
    "tags": []
   },
   "outputs": [],
   "source": [
    "!git branch -d feature/pingu_owner-conflict\n",
    "!git branch"
   ]
  },
  {
   "cell_type": "markdown",
   "id": "6dddba0c-62b3-49da-9aaf-4306b321033e",
   "metadata": {
    "tags": [
     "hide-input"
    ]
   },
   "source": [
    "<pre><code style=\"font-size: 2em; color: blue;\"> OWNER END\n",
    "</code></pre>"
   ]
  },
  {
   "cell_type": "markdown",
   "id": "f2bd33be-6ecd-4147-9456-685501c3b7b7",
   "metadata": {},
   "source": [
    "The Owner has now pushed their conflicting change to the shared main branch. This sets the stage perfectly for the conflict.\n",
    "Now, it's the Collaborator's turn to make their conflicting change."
   ]
  },
  {
   "cell_type": "markdown",
   "id": "65c2dfb1-cefc-48eb-b705-1aa0e062b204",
   "metadata": {
    "tags": [
     "hide-input"
    ]
   },
   "source": [
    "<pre><code style=\"font-size: 2em; color: red;\"> COLLABORATOR START\n",
    "</code></pre>"
   ]
  },
  {
   "cell_type": "markdown",
   "id": "e2caea67-781e-4562-bf68-9ca35b80431a",
   "metadata": {
    "tags": [
     "hide-input"
    ]
   },
   "source": [
    "Now it's the **Collaborator's** turn to make a change that will directly conflict with the Owner's modification. This will lead to a merge conflict, which we'll then resolve.\n",
    "\n",
    "Your feature branch for this change will be named `feature/<your-name>_collaborator-conflict`."
   ]
  },
  {
   "cell_type": "markdown",
   "id": "85fce00f-71b0-47e1-b133-f23ac13f97af",
   "metadata": {
    "tags": []
   },
   "source": [
    "### &nbsp;&nbsp; 6. &nbsp;&nbsp; Create and switch to your feature branch for the conflict"
   ]
  },
  {
   "cell_type": "code",
   "execution_count": null,
   "id": "dc03a32c-bdea-446f-95de-955f9126d9ce",
   "metadata": {
    "tags": []
   },
   "outputs": [],
   "source": [
    "!git branch feature/<your-name>_collaborator-conflict \n",
    "!git checkout feature/<your-name>_collaborator-conflict\n",
    "!git status"
   ]
  },
  {
   "cell_type": "markdown",
   "id": "0b5915a9-e599-409d-a8c3-5599d9bf47c3",
   "metadata": {},
   "source": [
    "### &nbsp;&nbsp; 7. &nbsp;&nbsp; Create Conflict: Modify `my_code.R`\n",
    "\n",
    "Now that you're on your `feature/<your-name>_collaborator-conflict` branch, you will modify the **exact same line** in `my_code.R` that the Owner just changed. This is key to creating a conflict!\n",
    "\n",
    "\n",
    "1.  **Locate `my_code.R`:** In the left sidebar of your JupyterLab interface, navigate into your `penguin-collaboration-project`. Double-click to open `my_code.R`.\n",
    "2.  **Modify the same line:** Find the `geom_point()`line. You will change its transparency (alpha value) to something different.\n",
    "    * Change: `geom_point()`\n",
    "    * To: `geom_point(alpha = 0.3)`\n",
    "3.  **Save the file:** Save your changes by clicking \"File\" -> \"Save my_code.R\" or using the keyboard shortcut (`Ctrl + S` or `Cmd + S`).\n",
    "4.  **Close the tab:** You can close the `my_code.R` editor tab if you wish."
   ]
  },
  {
   "cell_type": "markdown",
   "id": "a68070e2-806d-49d7-a8d4-0ba87e1632dc",
   "metadata": {},
   "source": [
    "### &nbsp;&nbsp; 8. &nbsp;&nbsp; Commit and Push Your Conflict Feature Branch\n",
    "\n",
    "\n",
    "Now it's time for the Collaborator to commit their conflicting change to their feature branch and push it to the shared remote.\n",
    "\n"
   ]
  },
  {
   "cell_type": "code",
   "execution_count": null,
   "id": "0a6ad7d5-fa2d-4752-88f4-7bcb5be7ca2a",
   "metadata": {},
   "outputs": [],
   "source": [
    "!git add my_code.R \n",
    "!git commit -m \"Conflict Feature: Collaborator modified geom_point alpha (<your-name>)\"\n",
    "!git push -u origin feature/<your-name>_collaborator-conflict"
   ]
  },
  {
   "cell_type": "markdown",
   "id": "e6b889e5-1abf-4753-864e-39607fa92ee7",
   "metadata": {},
   "source": [
    "### &nbsp;&nbsp; 9. &nbsp;&nbsp; Attempt to Merge into Main "
   ]
  },
  {
   "cell_type": "markdown",
   "id": "5184e46a-e5f7-4275-a3f4-6c9b3ddb327c",
   "metadata": {},
   "source": [
    "The Collaborator will now switch back to 'main', pull the latest changes, and attempt to merge their feature branch."
   ]
  },
  {
   "cell_type": "code",
   "execution_count": null,
   "id": "c447dc05-161f-44eb-93bc-bcf6760dce6e",
   "metadata": {},
   "outputs": [],
   "source": [
    "!git checkout main  # This pull will bring in the Owner's conflicting change from the remote 'main'.\n",
    "!git pull origin main # This pull will bring in the Owner's conflicting change from the remote 'main'.\n",
    "!git merge feature/<your-name>_collaborator-conflict "
   ]
  },
  {
   "cell_type": "markdown",
   "id": "6d826e10-414b-4d28-b5b0-e5aecfc603e7",
   "metadata": {},
   "source": [
    "You're now experiencing a classic Git merge conflict! When the Collaborator runs the above and Git tries to merge feature/<your-name>_collaborator-conflict into main after the Owner's changes are already on main, Git won't be able to automatically reconcile the differing changes on the same line.\n",
    "\n",
    "Here's what the Collaborator will typically see in their terminal output:\n",
    "```\n",
    "Auto-merging my_code.R\n",
    "CONFLICT (content): Merge conflict in my_code.R\n",
    "Automatic merge failed; fix conflicts and then commit the result.\n",
    "```"
   ]
  },
  {
   "cell_type": "code",
   "execution_count": null,
   "id": "735c2d7b-7f2b-444f-a251-ad959f6093ed",
   "metadata": {},
   "outputs": [],
   "source": [
    "!git status"
   ]
  },
  {
   "cell_type": "markdown",
   "id": "e06cb9cd-8384-40db-8e5b-e7f22e40e2b8",
   "metadata": {},
   "source": [
    "`git status` will show something like the below"
   ]
  },
  {
   "cell_type": "markdown",
   "id": "8cebfe93-fe1f-4e96-b59c-46e3cca03d2f",
   "metadata": {
    "jupyter": {
     "source_hidden": true
    },
    "tags": []
   },
   "source": [
    "```\n",
    "On branch main\n",
    "Your branch is behind 'origin/main' by X commits, and can be fast-forwarded.\n",
    "  (use \"git pull\" to update your local branch)\n",
    "\n",
    "You have unmerged paths.\n",
    "  (fix conflicts and run \"git commit\")\n",
    "  (use \"git merge --abort\" to abort the merge)\n",
    "\n",
    "Unmerged paths:\n",
    "  (use \"git add <file>...\" to mark resolution)\n",
    "        both modified: my_code.R\n",
    "\n",
    "no changes added to commit (use \"git add\" and/or \"git commit -a\")\n",
    "```"
   ]
  },
  {
   "cell_type": "markdown",
   "id": "ae911bbe-5151-4844-b7c7-aef6990b09e5",
   "metadata": {},
   "source": [
    "The most important part of this is that my_code.R is listed under \"Unmerged paths\" with both modified.\n",
    "\n",
    "Git will insert special \"conflict markers\" into the my_code.R file itself. If you open my_code.R, you'll see something similar to this (focus on the geom_point line):"
   ]
  },
  {
   "cell_type": "markdown",
   "id": "7b44be2c-4c48-411f-8154-ca9ce594f408",
   "metadata": {
    "tags": []
   },
   "source": [
    "```\n",
    "# ... (other existing code)\n",
    "ggplot(penguins, aes(x = flipper_length_mm, y = body_mass_g, color = species)) +\n",
    "<<<<<<< HEAD\n",
    "  geom_point(alpha = 0.6) # This is what's on your 'main' branch (from Owner)\n",
    "=======\n",
    "  geom_point(alpha = 0.3) # This is what's on your 'feature/<your-name>_collaborator-conflict' branch\n",
    ">>>>>>> feature/<your-name>_collaborator-conflict\n",
    "+ geom_smooth(method = \"lm\", se = FALSE, color = \"black\")\n",
    "# ... (rest of the code)\n",
    "```"
   ]
  },
  {
   "cell_type": "markdown",
   "id": "a9e8158b-4988-473d-afc6-221eb29f6fc9",
   "metadata": {},
   "source": [
    "**If you see the conflict markers around your whole block of code, don't worry.** \n",
    "This just means that the indentation in your R code was not correctly maintained during the editing process. With our little script this is not much of a problem as we can easily find the difference by eye. For bigger scripts, make sure you know how R structures its code as you don't want to visually inspect hunderds of lines of code. "
   ]
  },
  {
   "cell_type": "markdown",
   "id": "f577035f-9636-45e6-ab78-d641e0bdd296",
   "metadata": {},
   "source": [
    "### 10. Resolve the Conflict\n",
    "\n",
    "Git has stopped the merge because it found conflicting changes. It's now up to you, the **Collaborator**, to manually resolve these conflicts.\n",
    "\n",
    "1.  **Open `my_code.R`:** In the left sidebar of your JupyterLab interface, navigate into your `penguin-collaboration-project` directory. Double-click to open `my_code.R`.\n",
    "2.  **Edit the file:** You will see the conflict markers `<<<<<<<`, `=======`, and `>>>>>>>` around the `geom_point` line (ideally). Your goal is to:\n",
    "    * **Remove the lines with the three conflict markers.**\n",
    "    * **Decide which version of the `geom_point` line you want to keep.** You can keep the Owner's (`alpha = 0.6`), your own (`alpha = 0.3`), or combine them (e.g., `alpha = 0.4` or even add both if the function allows, though in this case, pick one for `alpha`).\n",
    "    * **For this exercise, let's use an intermediate value (alpha = 0.4).**\n",
    "        * Your `my_code.R` should look like this after editing the conflict section:\n",
    "\n",
    "        ```r\n",
    "        # ... (other existing code)\n",
    "        ggplot(penguins, aes(x = flipper_length_mm, y = body_mass_g, color = species)) +\n",
    "          geom_point(alpha = 0.4)\n",
    "        + geom_smooth(method = \"lm\", se = FALSE, color = \"black\")\n",
    "        # ... (rest of the code)\n",
    "        ```\n",
    "3.  **Save the file:** After making your edits and removing all conflict markers, **save `my_code.R`**.\n",
    "4.  **Close the tab:** You can close the `my_code.R` editor tab."
   ]
  },
  {
   "cell_type": "markdown",
   "id": "1b3bd817-2bba-40ef-a184-63c06a6d7b3f",
   "metadata": {},
   "source": [
    "### &nbsp;&nbsp; 10. &nbsp;&nbsp; Stage and Commit the Resolution"
   ]
  },
  {
   "cell_type": "markdown",
   "id": "3282a2f0-c058-47db-8471-14470e372ae4",
   "metadata": {},
   "source": [
    "Now that you've manually fixed my_code.R and removed all the conflict markers, you need to tell Git that the conflict is resolved. This involves staging the file and then committing the merge."
   ]
  },
  {
   "cell_type": "code",
   "execution_count": null,
   "id": "5eea12c1-7481-4edc-bef1-6561957a8e83",
   "metadata": {},
   "outputs": [],
   "source": [
    "!git add my_code.R  \n",
    "!git commit # Commit the merge. Git will typically provide a default message.\n",
    "!git push origin main # Push the resolved 'main' branch to the shared remote."
   ]
  },
  {
   "cell_type": "markdown",
   "id": "6600d597-8fdc-461f-bea2-1ef13c2e29df",
   "metadata": {},
   "source": [
    "Great! The Collaborator has successfully resolved the conflict and pushed the merged main branch to GitHub.\n",
    "\n"
   ]
  },
  {
   "cell_type": "markdown",
   "id": "fa268b2e-5c5d-4a1c-a1fc-ca2d73a397ce",
   "metadata": {
    "tags": [
     "hide-input"
    ]
   },
   "source": [
    "<pre><code style=\"font-size: 2em; color: red;\"> COLLABORATOR END\n",
    "</code></pre>"
   ]
  },
  {
   "cell_type": "markdown",
   "id": "a3204085-39f4-4341-864c-b1e987e707fa",
   "metadata": {},
   "source": [
    "Now, as the final step in this conflict resolution lesson, both the Owner and Collaborator should verify that the main branch on GitHub (and their own local copies) correctly reflect the resolved version of my_code.R. This means the Collaborator's linear regression and the Owner's title are there, and the geom_point line is as the Collaborator decided during the merge (e.g., alpha = 0.6)."
   ]
  },
  {
   "cell_type": "markdown",
   "id": "d2e6cdbb-79b2-4fab-9305-5cba4164f6dd",
   "metadata": {
    "tags": [
     "hide-input"
    ]
   },
   "source": [
    "<pre><code style=\"font-size: 2em; color: green;\"> BOTH OWNER & COLLABORATOR\n",
    "</code></pre>"
   ]
  },
  {
   "cell_type": "markdown",
   "id": "f5b83185-524e-42da-a981-87c55a87d1cb",
   "metadata": {
    "tags": [
     "hide-input"
    ]
   },
   "source": [
    "### Verify the Conflict Resolution"
   ]
  },
  {
   "cell_type": "markdown",
   "id": "f275b71e-fc29-420f-9a95-ced240f281dd",
   "metadata": {
    "tags": []
   },
   "source": [
    "After the Collaborator resolved the conflict and pushed, the `main` branch on GitHub now holds the combined and resolved version of `my_code.R`.\n",
    "\n",
    "1.  **Owner: Pull the latest `main`**\n",
    "    The **Owner** should pull the latest changes from `origin/main` to ensure their local repository is up-to-date with the resolved conflict. Run this command in a **new Code cell** for the Owner:\n",
    "\n",
    "    ```\n",
    "    !cd my_first_git_project && \\\n",
    "    git pull origin main\n",
    "    ```\n",
    "\n",
    "2.  **Inspect `my_code.R` Locally (Both Owner and Collaborator)**\n",
    "    After pulling, both the **Owner** and **Collaborator** should open their respective `my_code.R` files:\n",
    "    * **Owner:** Navigate to `my_first_git_project/my_code.R`\n",
    "    * **Collaborator:** Navigate to `penguin-collaboration-project/my_code.R`\n",
    "\n",
    "    Check the `geom_point` line. It should now reflect the `alpha = 0.6` (Owner's original choice) and **should no longer contain any `<<<<<<<`, `=======`, or `>>>>>>>` conflict markers.** Both the plot title and linear regression line should also still be present.\n",
    "\n",
    "3.  **Check GitHub's `main` Branch**\n",
    "    Finally, go to your `penguin-collaboration-project` on GitHub. Make sure you're viewing the **`main` branch** (check the branch dropdown). Open `my_code.R` on GitHub and verify that the `geom_point(alpha = 0.6)` line is there, along with all the other previous features.\n",
    "\n"
   ]
  },
  {
   "cell_type": "markdown",
   "id": "8cd013b7-eac3-45a8-8408-457b0aaac10c",
   "metadata": {},
   "source": [
    "## **Congratulations, you have now resolved your conflict!**"
   ]
  }
 ],
 "metadata": {
  "environment": {
   "kernel": "conda-base-py",
   "name": "workbench-notebooks.m129",
   "type": "gcloud",
   "uri": "us-docker.pkg.dev/deeplearning-platform-release/gcr.io/workbench-notebooks:m129"
  },
  "kernelspec": {
   "display_name": "Python 3 (ipykernel)",
   "language": "python",
   "name": "conda-base-py"
  },
  "language_info": {
   "codemirror_mode": {
    "name": "ipython",
    "version": 3
   },
   "file_extension": ".py",
   "mimetype": "text/x-python",
   "name": "python",
   "nbconvert_exporter": "python",
   "pygments_lexer": "ipython3",
   "version": "3.10.16"
  }
 },
 "nbformat": 4,
 "nbformat_minor": 5
}
