{
 "cells": [
  {
   "cell_type": "markdown",
   "id": "59d42f91-a9f2-4bce-9d49-a8a24464eb86",
   "metadata": {},
   "source": [
    "# Lesson 4 | Section 1: Branching & Merging"
   ]
  },
  {
   "cell_type": "markdown",
   "id": "ca93273b-0245-41b9-b9cc-754776b8c420",
   "metadata": {},
   "source": [
    "Git allows us to create isolated lines of development called **branches**. This lets you work on new features or fixes without affecting the main codebase. Once a feature is complete, your changes can be integrated back into `main` through **merging**.\n",
    "\n",
    "In this exercise, you will:\n",
    "1. Create a new Feature Branch.\n",
    "2. Modify the R file on your new branch.\n",
    "3. Commit your changes to the new branch.\n",
    "4. Merging Your Feature Branch with your main branch\n",
    "\n",
    "**Branches** let you and your collaborators update existing code or add new code without fear of overwriting each others’ files. All commits live on a branch. The default branch in a repository is called the main/master branch."
   ]
  },
  {
   "cell_type": "markdown",
   "id": "f75283f3-ac21-44b5-8b61-2c3e1bb46f96",
   "metadata": {},
   "source": [
    "First, set your working directory:"
   ]
  },
  {
   "cell_type": "code",
   "execution_count": null,
   "id": "d74a8641-7c55-4ca7-b840-22088c1f52aa",
   "metadata": {
    "tags": []
   },
   "outputs": [],
   "source": [
    "%cd ~/my_first_git_project"
   ]
  },
  {
   "cell_type": "markdown",
   "id": "f7b1de7e-10c9-462b-bc0c-71e55378177b",
   "metadata": {},
   "source": [
    "### &nbsp;&nbsp; 1.1. &nbsp;&nbsp; Create and Switch to Your New Branch\n",
    "\n",
    "We're starting with your `my_first_git_project` and `my_code.R` file on the `main` branch. Let's create a new branch to work on a Feature. This keeps your changes separate from the `main` branch until they're ready.\n",
    "\n",
    "We'll create a branch called `feature/add-theme`."
   ]
  },
  {
   "cell_type": "code",
   "execution_count": null,
   "id": "2f45c631-af23-41fc-8c53-eec536bc6c70",
   "metadata": {
    "tags": []
   },
   "outputs": [],
   "source": [
    "!git branch feature/add-theme"
   ]
  },
  {
   "cell_type": "markdown",
   "id": "b8dd946e-c528-4580-9065-9aea458ef486",
   "metadata": {},
   "source": [
    "Now we switch to this new branch"
   ]
  },
  {
   "cell_type": "code",
   "execution_count": null,
   "id": "3e3cf76f-dfe0-497b-90de-a6d97b591a35",
   "metadata": {
    "tags": []
   },
   "outputs": [],
   "source": [
    "!git checkout feature/add-theme"
   ]
  },
  {
   "cell_type": "markdown",
   "id": "a94d1f36-81a9-4b8b-bc71-5f053d5f234b",
   "metadata": {},
   "source": [
    "Let's see what happened in our git structure:"
   ]
  },
  {
   "cell_type": "code",
   "execution_count": null,
   "id": "a8e8cd30-25b1-4b34-9c29-f7314c6e27b1",
   "metadata": {
    "tags": []
   },
   "outputs": [],
   "source": [
    "!git status"
   ]
  },
  {
   "cell_type": "markdown",
   "id": "ef8a46f5-809c-4b9c-a1fc-851f8a65d4cd",
   "metadata": {},
   "source": [
    "### &nbsp;&nbsp; 2.2. &nbsp;&nbsp; Modify the R file on your new branch"
   ]
  },
  {
   "cell_type": "markdown",
   "id": "bbd07d22-94be-49ef-baa0-17b127756f89",
   "metadata": {},
   "source": [
    "You can see in the first line that we are now on the newly created feature/add-theme_pingu branch. Now that we're here, we will modify `my_code.R` on our Feature Branch"
   ]
  },
  {
   "cell_type": "markdown",
   "id": "14f81d0e-d302-4c63-bdf3-3c863581fa05",
   "metadata": {
    "tags": []
   },
   "source": [
    "<div style=\"margin-left: 30px;\">\n",
    "\n",
    "1.  **Locate `my_code.R`:** In the left sidebar of your JupyterLab interface, navigate into the `my_first_git_project` directory. You should see `my_code.R` listed there.\n",
    "2.  **Open the file:** Double-click on `my_code.R` to open it in a new editor tab.\n",
    "3.  **Add new lines:** We are going to add a theme to our plot, which makes the visualization look nicer. At the end of the existing content add the following lines: `+ theme_minimal()` </code></pre>\n",
    "4.  **Save the file:** Save your changes by clicking \"File\" -> \"Save my_code.R\" or using the keyboard shortcut (`Ctrl + S` or `Cmd + S`).\n",
    "5.  **Close the tab:** You can close the `my_code.R` editor tab if you wish.\n",
    "\n",
    "</div>"
   ]
  },
  {
   "cell_type": "markdown",
   "id": "6d6a9bf4-3940-41f1-a1ec-a80a2562aeb8",
   "metadata": {},
   "source": [
    "### &nbsp;&nbsp; 1.3. &nbsp;&nbsp; Commit Your Changes to Your New Branch"
   ]
  },
  {
   "cell_type": "markdown",
   "id": "fff57657-42d7-464f-a4bc-e1d2d89f0cc6",
   "metadata": {},
   "source": [
    "Below you will add your changed file to the Staging Area (```git add```), commit it to your Git Repository (```git commit```), and see what changed using ```git status```."
   ]
  },
  {
   "cell_type": "code",
   "execution_count": null,
   "id": "c36e4911-98fe-470a-a5bc-599aa16e60a0",
   "metadata": {
    "tags": []
   },
   "outputs": [],
   "source": [
    "!git add my_code.R \n",
    "!git commit -m \"Feature: Added a minimal theme to the scatter plot\" \n",
    "!git status"
   ]
  },
  {
   "cell_type": "markdown",
   "id": "d6bbec71-7e5c-4ee4-b602-f4ceb83cb3a1",
   "metadata": {},
   "source": [
    "You can see that your edited file was successfully committed on your new branch!"
   ]
  },
  {
   "cell_type": "markdown",
   "id": "16211cfc-11f3-40e4-a0bd-8c6965810325",
   "metadata": {},
   "source": [
    "### &nbsp;&nbsp; 1.4. &nbsp;&nbsp; Merging Your Feature Branch with your main branch\n",
    "\n",
    "Once your commit to the `Feature Branch` is complete and verified, you can merge it back into the `main` branch. This integrates all the changes you made on your `feature/add-theme\n",
    "` branch into the `main` codebase."
   ]
  },
  {
   "cell_type": "code",
   "execution_count": null,
   "id": "7a65d378-94a5-4ff2-ae93-409c60f46345",
   "metadata": {
    "tags": []
   },
   "outputs": [],
   "source": [
    "!git checkout main # switch to main branch\n",
    "!git merge feature/add-theme # merge your branches"
   ]
  },
  {
   "cell_type": "markdown",
   "id": "2c77a4a2-3aba-4aeb-b697-c2b753c19363",
   "metadata": {},
   "source": [
    "The command below displays a concise, single-line summary of each commit, illustrating the branching and merging history of your repository."
   ]
  },
  {
   "cell_type": "code",
   "execution_count": null,
   "id": "d69b450f-bea4-4221-a1c4-df4c43893086",
   "metadata": {
    "tags": []
   },
   "outputs": [],
   "source": [
    "!git log --oneline "
   ]
  },
  {
   "cell_type": "markdown",
   "id": "edecd7f5-c145-4176-9123-f9e2947374b2",
   "metadata": {},
   "source": [
    "### &nbsp;&nbsp; 1.5. &nbsp;&nbsp; Deleting Your Feature Branch"
   ]
  },
  {
   "cell_type": "markdown",
   "id": "6ab181df-e577-466b-a378-b1d7e3ffb3cf",
   "metadata": {},
   "source": [
    "Now that you have merged the changes you made to my_code.R with your main branch, it is time to get rid of the new feature branch. It's generally a recommended best practice to delete a feature branch after it has been successfully merged into main. \n",
    "\n",
    "Deleting a branch after merging keeps your repository clean and organized, preventing clutter. It doesn't lose any history, as all commits are preserved in the main branch's log. This practice also prevents confusion or accidental work on old branches, clearly signaling that the feature is complete and integrated into the main codebase, aligning with standard Git workflows.\n",
    "\n",
    "For every new feature, bug fix, or independent piece of work, you should create a new branch from main. \n",
    "\n",
    "The code below will delete your feature/add-plot-labels branch.  The '-d' flag is a \"safe\" delete (only if merged):"
   ]
  },
  {
   "cell_type": "code",
   "execution_count": null,
   "id": "9c6e9aec-ea6e-4a3b-9586-cc0b1fcf430c",
   "metadata": {
    "tags": []
   },
   "outputs": [],
   "source": [
    "!git branch -d feature/add-theme"
   ]
  },
  {
   "cell_type": "markdown",
   "id": "69182d36-1212-4c31-9683-562fbbba6436",
   "metadata": {},
   "source": [
    "Now let's which if our branch was successfully deleted:"
   ]
  },
  {
   "cell_type": "code",
   "execution_count": null,
   "id": "2ebd9058-9c1a-4324-814c-8d649285560a",
   "metadata": {
    "tags": []
   },
   "outputs": [],
   "source": [
    "!git branch"
   ]
  },
  {
   "cell_type": "markdown",
   "id": "fd7389e4-f382-4ef2-8d44-7b7be1e8f46b",
   "metadata": {},
   "source": [
    "### Overview: A Typical Workflow\n",
    "\n",
    "1. Start on main (or develop): Ensure your main branch is up-to-date (`git pull origin main`).\n",
    "2. Create a new branch: `git checkout -b feature/new-feature-name` (or bugfix/bug-description).\n",
    "3. Work on the new branch: Make all your changes, commits, and tests here.\n",
    "4. Merge back: Once complete, switch back to main (`git checkout main`) and merge your feature branch (`git merge feature/new-feature-name`).\n",
    "5. Delete the feature branch: `git branch -d feature/new-feature-name`.\n",
    "\n",
    "This cycle is repeated for each new, distinct set of changes. This keeps your main branch clean and stable, and provides a clear history for each individual piece of work.\n",
    "\n",
    "---"
   ]
  }
 ],
 "metadata": {
  "environment": {
   "kernel": "conda-base-py",
   "name": "workbench-notebooks.m129",
   "type": "gcloud",
   "uri": "us-docker.pkg.dev/deeplearning-platform-release/gcr.io/workbench-notebooks:m129"
  },
  "kernelspec": {
   "display_name": "Python 3 (ipykernel)",
   "language": "python",
   "name": "conda-base-py"
  },
  "language_info": {
   "codemirror_mode": {
    "name": "ipython",
    "version": 3
   },
   "file_extension": ".py",
   "mimetype": "text/x-python",
   "name": "python",
   "nbconvert_exporter": "python",
   "pygments_lexer": "ipython3",
   "version": "3.10.16"
  }
 },
 "nbformat": 4,
 "nbformat_minor": 5
}
