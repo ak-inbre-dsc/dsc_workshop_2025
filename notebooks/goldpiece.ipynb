{
 "cells": [
  {
   "cell_type": "markdown",
   "id": "335516a1-18df-43fa-8921-39016b4c8190",
   "metadata": {},
   "source": [
    "# Adapative Sampling Scripts"
   ]
  },
  {
   "cell_type": "markdown",
   "id": "1245aeec-8f05-4323-be35-21e2ad3102e9",
   "metadata": {
    "tags": []
   },
   "source": [
    "## Run the Adapative Sampling Script on DSC2025_RAD_Enrich"
   ]
  },
  {
   "cell_type": "raw",
   "id": "f41e9d44-f92c-4397-be2b-3cfa30fd1769",
   "metadata": {},
   "source": [
    "cd ~\n",
    "bash dsc_workshop_2025/scripts/as_processing_cloud_v2.sh DSC2025_RAD_Enrich"
   ]
  },
  {
   "cell_type": "markdown",
   "id": "d86b69c1-6904-4548-951a-8c18fa58fd62",
   "metadata": {},
   "source": [
    "## Run the Stats Script on DSC2025_RAD_Enrich"
   ]
  },
  {
   "cell_type": "raw",
   "id": "85390bba-d07e-400b-888e-e27188b99976",
   "metadata": {},
   "source": [
    "cd ~\n",
    "bash dsc_workshop_2025/scripts/get_all_stats.sh DSC2025_RAD_Enrich"
   ]
  },
  {
   "cell_type": "markdown",
   "id": "21e28b03-9edd-421e-971e-17f16fdf3eff",
   "metadata": {},
   "source": [
    "# Metagenomic Workflows"
   ]
  },
  {
   "cell_type": "markdown",
   "id": "33265281-d0fa-44e0-b56d-74d6f27056ac",
   "metadata": {},
   "source": [
    "## Run the wf-metagenomic workflow on DSC2025_RAD_Enrich after split by Treatment"
   ]
  },
  {
   "cell_type": "raw",
   "id": "041df80a-6f11-4b1f-bf20-6d32137d5566",
   "metadata": {},
   "source": [
    "cd ~\n",
    "~/nextflow run epi2me-labs/wf-metagenomics \\\n",
    "    --fastq \"${HOME}/dsc-nanopore-data/as_analysis/DSC2025_RAD_Enrich/fastq_treatment\" \\\n",
    "    --out_dir \"${HOME}/metagenomics-DSC2025_RAD_Enrich_output\" \\\n",
    "    -profile standard"
   ]
  },
  {
   "cell_type": "markdown",
   "id": "5d1d4e6c-2a72-49b2-bfad-fcfffb1243e4",
   "metadata": {
    "tags": []
   },
   "source": [
    "## Run the wf-metagenomic workflow on DSC2025_RBK_Replicates"
   ]
  },
  {
   "cell_type": "raw",
   "id": "6537b2a7-ffc2-4b16-9617-b7c4b24e97b3",
   "metadata": {},
   "source": [
    "cd ~\n",
    "~/nextflow run epi2me-labs/wf-metagenomics \\\n",
    "    --fastq \"${HOME}/dsc-nanopore-data/barcoding_data/DSC2025_RBK_Replicates/basecalled/fastq_pass\" \\\n",
    "    --out_dir \"${HOME}/metagenomics-DSC2025_RBK_Replicates_output\" \\\n",
    "    -profile standard"
   ]
  },
  {
   "cell_type": "markdown",
   "id": "5576c8c0-c1d6-43d6-a223-a7b63c2ce466",
   "metadata": {},
   "source": [
    "## Run the wf-metagenomic workflow on DSC2025_RBK_Replicates, only selected barcodes (1-8)"
   ]
  },
  {
   "cell_type": "raw",
   "id": "a0804969-c6f4-417b-8d30-0c50c1105abd",
   "metadata": {},
   "source": [
    "cd ~\n",
    "~/nextflow run epi2me-labs/wf-metagenomics \\\n",
    "    --fastq \"${HOME}/dsc-nanopore-data/barcoding_data/DSC2025_RBK_Replicates/basecalled/fastq_pass_selected\" \\\n",
    "    --out_dir \"${HOME}/metagenomics-DSC2025_RBK_Replicates_selected_output\" \\\n",
    "    -profile standard"
   ]
  },
  {
   "cell_type": "markdown",
   "id": "28b96126-464b-44e6-8566-7d65777207fa",
   "metadata": {
    "tags": []
   },
   "source": [
    "## Run the wf-metagenomic workflow on DSC2025_LSK_Yield"
   ]
  },
  {
   "cell_type": "raw",
   "id": "b8d4065d-cb6d-435e-8f05-f5e221f96515",
   "metadata": {
    "tags": []
   },
   "source": [
    "cd ~\n",
    "~/nextflow run epi2me-labs/wf-metagenomics \\\n",
    "    --fastq \"${HOME}/dsc-nanopore-data/yield_data/DSC2025_LSK_Yield/basecalled/fastq_pass\" \\\n",
    "    --out_dir \"${HOME}/metagenomics-DSC2025_LSK_Yield_output\" \\\n",
    "    -profile standard"
   ]
  },
  {
   "cell_type": "markdown",
   "id": "4d31383a-1f37-4aba-b3cf-084bd212cc43",
   "metadata": {},
   "source": [
    "## Run the wf-bacterial-genomes workflow on single bacterial strain in DSC2025_RAD_Enrich"
   ]
  },
  {
   "cell_type": "markdown",
   "id": "332793f1-5abd-4ea2-aa77-421b8e1cfb51",
   "metadata": {
    "tags": []
   },
   "source": [
    "### Adapative Sampling Treatment"
   ]
  },
  {
   "cell_type": "raw",
   "id": "d2222096-cde7-4166-b9dc-a6c9a63262bb",
   "metadata": {},
   "source": [
    "cd ~\n",
    "~/nextflow run epi2me-labs/wf-bacterial-genomes \\\n",
    "    --fastq \"${HOME}/dsc-nanopore-data/as_analysis/DSC2025_RAD_Enrich/fastq_treatment_iso/AS_Salmonella\" \\\n",
    "    --isolates \\\n",
    "    --out_dir \"${HOME}/bacterial-genomes-DSC2025_RAD_Enrich_AS_Salmonella_output\" \\\n",
    "    -profile standard"
   ]
  },
  {
   "cell_type": "markdown",
   "id": "5052dc22-d221-4e74-9f65-b18b73d8539c",
   "metadata": {},
   "source": [
    "### Control Treatment"
   ]
  },
  {
   "cell_type": "raw",
   "id": "40bb2fb0-5076-4804-8dcc-c9a8a5ad73b4",
   "metadata": {},
   "source": [
    "cd ~\n",
    "~/nextflow run epi2me-labs/wf-bacterial-genomes \\\n",
    "    --fastq \"${HOME}/dsc-nanopore-data/as_analysis/DSC2025_RAD_Enrich/fastq_treatment_iso/Control_Salmonella\" \\\n",
    "    --isolates \\\n",
    "    --out_dir \"${HOME}/bacterial-genomes-DSC2025_RAD_Enrich_Control_Salmonella_output\" \\\n",
    "    -profile standard"
   ]
  }
 ],
 "metadata": {
  "environment": {
   "kernel": "conda-base-py",
   "name": "workbench-notebooks.m129",
   "type": "gcloud",
   "uri": "us-docker.pkg.dev/deeplearning-platform-release/gcr.io/workbench-notebooks:m129"
  },
  "kernelspec": {
   "display_name": "Python 3 (ipykernel)",
   "language": "python",
   "name": "conda-base-py"
  },
  "language_info": {
   "codemirror_mode": {
    "name": "ipython",
    "version": 3
   },
   "file_extension": ".py",
   "mimetype": "text/x-python",
   "name": "python",
   "nbconvert_exporter": "python",
   "pygments_lexer": "ipython3",
   "version": "3.10.16"
  }
 },
 "nbformat": 4,
 "nbformat_minor": 5
}
