{
 "cells": [
  {
   "cell_type": "markdown",
   "id": "20f4f0a7-de75-438a-a2b1-d027fe5839e8",
   "metadata": {},
   "source": [
    "# **Walkthrough: Bioinformatics Tools Installation Script**\n",
    "\n",
    "Before you can run the main adaptive sampling analysis pipeline, you need to ensure that all the necessary bioinformatics software is installed on your server (e.g., a Google Cloud Vertex AI instance). The `install_bioinfo_tools.sh` script automates this process.\n",
    "\n",
    "This document will walk you through what each section of the installation script does. After understanding its components, you'll be guided on how to run it.\n",
    "\n",
    "**Important Note:** This installation script is designed for Debian-based Linux systems (like the default images on Google Cloud Vertex AI). It uses apt-get for package management and may require sudo (administrator) privileges to install software system-wide.\n",
    "\n",
    "> **Tip:** Run the cells one‑by‑one so you can watch each step complete.\n",
    "\n",
    "## **Script Breakdown**\n",
    "\n",
    "Let's look at the install\\_bioinfo\\_tools.sh script section by section.\n",
    "\n",
    "### **Section 0: Script Header and Initial Messages**"
   ]
  },
  {
   "cell_type": "raw",
   "id": "40882738-8097-4843-aa60-b71d08075222",
   "metadata": {},
   "source": [
    "#!/bin/bash\n",
    "\n",
    "# Script to install bioinformatics tools on a Google Cloud Vertex AI instance (Debian-based).\n",
    "# Run this script with sudo privileges, e.g., sudo ./install_bioinfo_tools.sh\n",
    "\n",
    "echo \"Starting bioinformatics tools installation...\"\n",
    "echo \"This script will update package lists and install necessary software.\"\n",
    "echo \"It assumes you are running on a Debian-based Linux system (like Vertex AI default images).\"\n",
    "echo \"---------------------------------------------------------------------\"\n",
    "\n",
    "# Exit immediately if a command exits with a non-zero status.\n",
    "set -e"
   ]
  },
  {
   "cell_type": "markdown",
   "id": "e0d1d96c-0f76-4466-becc-c299f47dce71",
   "metadata": {},
   "source": [
    "* **\\#\\!/bin/bash**: This is the \"shebang\" line. It tells the system that this script should be executed with bash.  \n",
    "* **Comments (\\# ...)**: Lines starting with \\# are comments, providing explanations for human readers.  \n",
    "* **echo \"...\"**: These commands print messages to the terminal, informing the user about the script's progress.  \n",
    "* **set \\-e**: This is an important command for script robustness. It ensures that if any command within the script fails (exits with a non-zero status), the script will stop immediately. This prevents further errors or incomplete installations."
   ]
  },
  {
   "cell_type": "markdown",
   "id": "e71b365d-5589-429c-9be6-39416a1d1c84",
   "metadata": {},
   "source": [
    "### **Section 1: Update Package Lists**"
   ]
  },
  {
   "cell_type": "raw",
   "id": "15324e7a-822c-4cc1-9d73-e783cfa2246e",
   "metadata": {
    "tags": []
   },
   "source": [
    "# 1. Update package lists\n",
    "echo \"\"\n",
    "echo \"Updating package lists...\"\n",
    "sudo apt-get update -y\n",
    "echo \"Package lists updated.\"\n",
    "echo \"---------------------------------------------------------------------\""
   ]
  },
  {
   "cell_type": "markdown",
   "id": "e6c09bca-35fc-4f65-a744-820e82905a7d",
   "metadata": {},
   "source": [
    "* **sudo apt-get update \\-y**:  \n",
    "  * sudo: Executes the command with superuser (administrator) privileges, which is necessary for system-wide package management.  \n",
    "  * apt-get update: This command resynchronizes the package index files from their sources. It downloads the latest list of available software packages and their versions from the repositories configured on your system. It doesn't install or upgrade any software itself, but it's a crucial first step before installing new packages to ensure you get the latest available versions.  \n",
    "  * \\-y: Automatically answers \"yes\" to any prompts, making the command non-interactive."
   ]
  },
  {
   "cell_type": "markdown",
   "id": "9f34330b-f240-4097-8764-ba0c76249412",
   "metadata": {},
   "source": [
    "### **Section 2: Install Essential Build Tools and Libraries**"
   ]
  },
  {
   "cell_type": "raw",
   "id": "dac36606-ff4b-4541-831d-3a7611a077f3",
   "metadata": {},
   "source": [
    "# 2. Install essential build tools and libraries\n",
    "# These are often dependencies for compiling or running bioinformatics software.\n",
    "echo \"\"\n",
    "echo \"Installing essential build tools and libraries (build-essential, zlib1g-dev, etc.)...\"\n",
    "sudo apt-get install -y \\\n",
    "    build-essential \\\n",
    "    wget \\\n",
    "    curl \\\n",
    "    unzip \\\n",
    "    gzip \\\n",
    "    git \\\n",
    "    zlib1g-dev \\\n",
    "    libncurses5-dev \\\n",
    "    libbz2-dev \\\n",
    "    liblzma-dev \\\n",
    "    autotools-dev \\\n",
    "    autoconf \\\n",
    "    pkg-config\n",
    "echo \"Essential tools and libraries installed.\"\n",
    "echo \"---------------------------------------------------------------------\""
   ]
  },
  {
   "cell_type": "markdown",
   "id": "14e2db8f-699e-4cc9-940e-83abe7cb66b7",
   "metadata": {},
   "source": [
    "* **sudo apt-get install \\-y ...**: This command installs a list of packages.  \n",
    "  * **build-essential**: A meta-package that installs many common development tools like GCC (C/C++ compiler), make, and other utilities needed for compiling software from source code.  \n",
    "  * **wget, curl**: Utilities for downloading files from the internet.  \n",
    "  * **unzip, gzip**: Utilities for decompressing files. gzip is also used by your main pipeline.  \n",
    "  * **git**: A version control system, often needed to download (clone) software source code from repositories like GitHub.  \n",
    "  * **zlib1g-dev, libncurses5-dev, libbz2-dev, liblzma-dev**: These are development libraries. Many bioinformatics tools depend on these for functionalities like compression (zlib, bzip2, lzma) or terminal interactions (ncurses). The \\-dev suffix indicates that these packages include header files and other resources needed for compiling software that uses these libraries.  \n",
    "  * **autotools-dev, autoconf, pkg-config**: Tools often used in the build process (compilation) of software from source, helping to configure the build for different systems."
   ]
  },
  {
   "cell_type": "markdown",
   "id": "ec5d34ec-ef55-42f0-a16c-d21ecd6bbf4e",
   "metadata": {},
   "source": [
    "### **Section 3: Install Core Utilities**"
   ]
  },
  {
   "cell_type": "raw",
   "id": "631e84e0-198d-4298-bc86-2049df231b09",
   "metadata": {},
   "source": [
    "# 3. Install core utilities (most should be present, but good to ensure)\n",
    "# awk (gawk), grep, cut, sort, uniq are part of coreutils or gawk.\n",
    "echo \"\"\n",
    "echo \"Ensuring core utilities are present (gawk, coreutils)...\"\n",
    "sudo apt-get install -y gawk coreutils\n",
    "echo \"Core utilities checked/installed.\"\n",
    "echo \"---------------------------------------------------------------------\""
   ]
  },
  {
   "cell_type": "markdown",
   "id": "b7cb142a-8a56-48b4-b259-6b7bcb0d503b",
   "metadata": {},
   "source": [
    "* **sudo apt-get install \\-y gawk coreutils**:  \n",
    "  * **gawk**: GNU Awk, a powerful text-processing utility used extensively in your main analysis script.  \n",
    "  * **coreutils**: This package provides basic file, shell, and text manipulation utilities of the GNU operating system (e.g., cat, ls, mkdir, head, cut, sort, uniq, grep, rm). These are almost always present on a Linux system, but this line ensures they are."
   ]
  },
  {
   "cell_type": "markdown",
   "id": "34136757-7b7a-4ed2-8482-e6c68ce92ec3",
   "metadata": {},
   "source": [
    "### **Section 4: Install Samtools**"
   ]
  },
  {
   "cell_type": "raw",
   "id": "ad6c4dd7-3cb7-45ec-8071-73e9c12b35d2",
   "metadata": {},
   "source": [
    "# 4. Install Samtools\n",
    "echo \"\"\n",
    "echo \"Installing Samtools...\"\n",
    "sudo apt-get install -y samtools\n",
    "echo \"Samtools installed.\"\n",
    "samtools --version # Verify installation\n",
    "echo \"---------------------------------------------------------------------\""
   ]
  },
  {
   "cell_type": "markdown",
   "id": "68c27eb1-f8dd-4bd9-adf2-f8093a8c51c1",
   "metadata": {},
   "source": [
    "* **sudo apt-get install \\-y samtools**: Installs Samtools, a suite of programs for interacting with high-throughput sequencing data in SAM/BAM/CRAM formats. Your main script uses it for sorting, viewing, indexing, and filtering BAM files.  \n",
    "* **samtools \\--version**: After installation, this command is run to print the installed version of Samtools, which helps verify that the installation was successful and the tool is in the system's PATH."
   ]
  },
  {
   "cell_type": "markdown",
   "id": "e2fb2ff5-768d-4dfe-b914-e346c3f4742d",
   "metadata": {},
   "source": [
    "### **Section 5: Install Minimap2**"
   ]
  },
  {
   "cell_type": "raw",
   "id": "74a71fe2-441f-4634-8bb0-e2d48a27dac4",
   "metadata": {},
   "source": [
    "# 5. Install Minimap2\n",
    "echo \"\"\n",
    "echo \"Installing Minimap2...\"\n",
    "sudo apt-get install -y minimap2\n",
    "echo \"Minimap2 installed.\"\n",
    "minimap2 --version # Verify installation\n",
    "echo \"---------------------------------------------------------------------\""
   ]
  },
  {
   "cell_type": "markdown",
   "id": "33d1671d-a8ae-4c23-9a15-cd5086331bd3",
   "metadata": {},
   "source": [
    "* **sudo apt-get install \\-y minimap2**: Installs Minimap2, a fast sequence alignment program for mapping DNA or mRNA sequences against a large reference database. It's used for the read mapping step in your main pipeline.  \n",
    "* **minimap2 \\--version**: Verifies the Minimap2 installation."
   ]
  },
  {
   "cell_type": "markdown",
   "id": "5051f123-ba79-4641-8418-a90a699e6a98",
   "metadata": {},
   "source": [
    "### **Section 6: Install SeqKit**"
   ]
  },
  {
   "cell_type": "raw",
   "id": "265da892-87eb-4fa0-a3b5-c4d046b9a38b",
   "metadata": {},
   "source": [
    "# 6. Install SeqKit\n",
    "# SeqKit is typically installed by downloading the pre-compiled binary.\n",
    "echo \"\"\n",
    "echo \"Installing SeqKit...\"\n",
    "# Get the latest release URL from GitHub (you might want to check for the very latest version)\n",
    "# For simplicity, using a known recent version. Adjust if needed.\n",
    "SEQKIT_VERSION=\"2.10.0\" # Example version, check for latest\n",
    "SEQKIT_ARCH=$(dpkg --print-architecture) # e.g., amd64, arm64\n",
    "\n",
    "if [ \"$SEQKIT_ARCH\" == \"amd64\" ]; then\n",
    "    SEQKIT_DOWNLOAD_URL=\"https://github.com/shenwei356/seqkit/releases/download/v${SEQKIT_VERSION}/seqkit_linux_amd64.tar.gz\"\n",
    "elif [ \"$SEQKIT_ARCH\" == \"arm64\" ]; then\n",
    "    SEQKIT_DOWNLOAD_URL=\"https://github.com/shenwei356/seqkit/releases/download/v${SEQKIT_VERSION}/seqkit_linux_arm64.tar.gz\"\n",
    "else\n",
    "    echo \"Unsupported architecture for SeqKit binary: $SEQKIT_ARCH. Please install manually.\"\n",
    "    exit 1\n",
    "fi\n",
    "\n",
    "echo \"Downloading SeqKit binary from ${SEQKIT_DOWNLOAD_URL}...\"\n",
    "cd /tmp # Change to a temporary directory for downloading\n",
    "wget -q \"${SEQKIT_DOWNLOAD_URL}\" -O seqkit.tar.gz # Download quietly (-q)\n",
    "tar -xzf seqkit.tar.gz # Extract the archive\n",
    "sudo mv seqkit /usr/local/bin/ # Move the executable to a directory in the PATH\n",
    "rm seqkit.tar.gz # Clean up the downloaded archive\n",
    "cd / # Change back to the root directory (or any other starting point)\n",
    "echo \"SeqKit installed to /usr/local/bin/.\"\n",
    "seqkit version # Verify installation\n",
    "echo \"---------------------------------------------------------------------\""
   ]
  },
  {
   "cell_type": "markdown",
   "id": "78a257c0-90ff-4be6-917c-39d98c12c42a",
   "metadata": {},
   "source": [
    "* **SeqKit Installation from Binary**: SeqKit is often installed by downloading a pre-compiled binary (an executable file) directly from its GitHub releases page. This method doesn't rely on apt-get.  \n",
    "  * SEQKIT\\_VERSION: Sets a specific version to download. You might want to update this to the latest version available on the SeqKit GitHub page.  \n",
    "  * SEQKIT\\_ARCH=$(dpkg \\--print-architecture): This command determines the system's architecture (e.g., amd64 for standard 64-bit Intel/AMD processors, arm64 for ARM-based processors) to download the correct binary.  \n",
    "  * if ... elif ... else ... fi: Selects the appropriate download URL based on the detected architecture.  \n",
    "  * cd /tmp: Changes to the /tmp directory, a standard location for temporary files.  \n",
    "  * wget \\-q ... \\-O seqkit.tar.gz: Downloads the SeqKit archive quietly.  \n",
    "  * tar \\-xzf seqkit.tar.gz: Extracts the contents of the downloaded .tar.gz file.  \n",
    "  * sudo mv seqkit /usr/local/bin/: Moves the extracted seqkit executable to /usr/local/bin/. This directory is typically in the system's PATH, making the command accessible from anywhere.  \n",
    "  * rm seqkit.tar.gz: Deletes the downloaded archive to save space.  \n",
    "  * cd /: Changes directory back (optional, just good practice).  \n",
    "  * seqkit version: Verifies the SeqKit installation."
   ]
  },
  {
   "cell_type": "markdown",
   "id": "e6daa5ad-2f93-4f8a-8b88-3e477e47343c",
   "metadata": {},
   "source": [
    "### **Section 7: Install Seqtk**"
   ]
  },
  {
   "cell_type": "raw",
   "id": "5baa5672-64ad-4fab-8b6d-e48c19c4d4fa",
   "metadata": {},
   "source": [
    "# 7. Install Seqtk\n",
    "# Seqtk might be in apt repositories, if not, we'll download and compile.\n",
    "echo \"\"\n",
    "echo \"Attempting to install Seqtk from apt...\"\n",
    "if sudo apt-get install -y seqtk; then\n",
    "    echo \"Seqtk installed successfully from apt.\"\n",
    "else\n",
    "    echo \"Seqtk not found in apt or installation failed. Attempting to install from source...\"\n",
    "    cd /tmp # Go to a temporary directory\n",
    "    git clone https://github.com/lh3/seqtk.git\n",
    "    cd seqtk\n",
    "    make\n",
    "    sudo mv seqtk /usr/local/bin/\n",
    "    cd / # Go back to root or home\n",
    "    rm -rf /tmp/seqtk # Clean up\n",
    "    echo \"Seqtk installed from source to /usr/local/bin/.\"\n",
    "fi\n",
    "seqtk # Verify installation (should show usage)\n",
    "echo \"---------------------------------------------------------------------\""
   ]
  },
  {
   "cell_type": "markdown",
   "id": "ae3bcaa3-c9df-4d2b-bde7-d4a14ffe1c14",
   "metadata": {},
   "source": [
    "* **Seqtk Installation (Attempt apt then Source)**:  \n",
    "  * if sudo apt-get install \\-y seqtk; then ...: The script first tries to install seqtk using apt-get. If this is successful, it's done.  \n",
    "  * else ... fi: If apt-get fails (e.g., seqtk is not in the repositories or the version is too old), the script falls back to installing from source:  \n",
    "    * cd /tmp: Changes to the temporary directory.  \n",
    "    * git clone https://github.com/lh3/seqtk.git: Downloads the source code for seqtk from its GitHub repository.  \n",
    "    * cd seqtk: Enters the downloaded source code directory.  \n",
    "    * make: Compiles the seqtk program from its source code. This often requires build-essential (installed in Section 2).  \n",
    "    * sudo mv seqtk /usr/local/bin/: Moves the compiled seqtk executable to /usr/local/bin/.  \n",
    "    * rm \\-rf /tmp/seqtk: Deletes the downloaded source code directory.  \n",
    "  * seqtk: Verifies the installation by running the command (which usually prints usage information if no arguments are given)."
   ]
  },
  {
   "cell_type": "markdown",
   "id": "cf8b9f67-144f-4ebe-98fa-942dc7ce0fde",
   "metadata": {},
   "source": [
    "## **How to Run the Installation Script**\n",
    "\n",
    "Now that you understand what the script does, here's how to use it:\n",
    " \n",
    "1. **Run the Script:**  \n",
    "   * Execute the script \n",
    "   * The script will print messages as it progresses through each installation step.  "
   ]
  },
  {
   "cell_type": "code",
   "execution_count": null,
   "id": "f827bf6b-a0a1-4d86-b6ce-13df997328cd",
   "metadata": {
    "tags": []
   },
   "outputs": [],
   "source": [
    "!bash ~/dsc_workshop_2025/scripts/install_bioinfo_tools.sh"
   ]
  },
  {
   "cell_type": "markdown",
   "id": "6d9e4613-e589-463a-bf66-8718d43e63e5",
   "metadata": {},
   "source": [
    "2. **Verify Installations (After Script Finishes):**  \n",
    "   * Although the script attempts to verify some installations by printing version numbers, it's a good idea to manually check a few:  \n",
    "     samtools \\--version  \n",
    "     minimap2 \\--version  \n",
    "     seqkit version  \n",
    "     seqtk"
   ]
  },
  {
   "cell_type": "code",
   "execution_count": null,
   "id": "c2a4705b-21c2-4a3d-97d5-174ef111e394",
   "metadata": {
    "tags": []
   },
   "outputs": [],
   "source": [
    "!samtools --version | head -n 1\n",
    "!echo -e \"Minimap2 version: \"\n",
    "!minimap2 --version | head -n 1\n",
    "!seqkit version\n",
    "!seqtk 2>&1 | head -n 3"
   ]
  },
  {
   "cell_type": "markdown",
   "id": "4888b67c-a69c-4f5c-b02a-7bf597538967",
   "metadata": {},
   "source": [
    "* If any tool failed to install, the script should have exited due to set \\-e, or you might see error messages. Review the output to troubleshoot.\n",
    "* By following these steps, you will set up the necessary software environment to run your main adaptive sampling analysis pipeline."
   ]
  }
 ],
 "metadata": {
  "environment": {
   "kernel": "conda-base-py",
   "name": "workbench-notebooks.m129",
   "type": "gcloud",
   "uri": "us-docker.pkg.dev/deeplearning-platform-release/gcr.io/workbench-notebooks:m129"
  },
  "kernelspec": {
   "display_name": "Python 3 (ipykernel)",
   "language": "python",
   "name": "conda-base-py"
  },
  "language_info": {
   "codemirror_mode": {
    "name": "ipython",
    "version": 3
   },
   "file_extension": ".py",
   "mimetype": "text/x-python",
   "name": "python",
   "nbconvert_exporter": "python",
   "pygments_lexer": "ipython3",
   "version": "3.10.16"
  }
 },
 "nbformat": 4,
 "nbformat_minor": 5
}
